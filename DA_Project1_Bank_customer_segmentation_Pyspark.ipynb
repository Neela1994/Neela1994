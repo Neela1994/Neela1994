{
  "nbformat": 4,
  "nbformat_minor": 0,
  "metadata": {
    "colab": {
      "name": "DA_Project1_Bank_customer_segmentation_Pyspark.ipynb",
      "provenance": [],
      "collapsed_sections": [],
      "include_colab_link": true
    },
    "kernelspec": {
      "name": "python3",
      "display_name": "Python 3"
    },
    "language_info": {
      "name": "python"
    }
  },
  "cells": [
    {
      "cell_type": "markdown",
      "metadata": {
        "id": "view-in-github",
        "colab_type": "text"
      },
      "source": [
        "<a href=\"https://colab.research.google.com/github/Neela1994/Neela1994/blob/main/DA_Project1_Bank_customer_segmentation_Pyspark.ipynb\" target=\"_parent\"><img src=\"https://colab.research.google.com/assets/colab-badge.svg\" alt=\"Open In Colab\"/></a>"
      ]
    },
    {
      "cell_type": "markdown",
      "source": [
        "**Bank Customer Segmentation**\n",
        "\n",
        "In this project, we will be creating Customer Segmentation using bank customer transaction dataset of an Indian bank.\n",
        "The Data for this project is obtained from Kaggle, banking transaction's dataset of an Indian bank from August 2016 to October 2016 and has data volume of 1 million transactions and comprising of about 800k customer details We will make use of K-means and Bisecting K-Means clustering techniques which is the essential algorithm for clustering unlabeled datasets."
      ],
      "metadata": {
        "id": "hIJWdx0BxL7L"
      }
    },
    {
      "cell_type": "markdown",
      "source": [
        "Connecting Drive to Colab"
      ],
      "metadata": {
        "id": "v5FHdGWCySlt"
      }
    },
    {
      "cell_type": "code",
      "source": [
        "from google.colab import drive\n",
        "drive.mount('/content/drive')"
      ],
      "metadata": {
        "colab": {
          "base_uri": "https://localhost:8080/"
        },
        "id": "228MiZOpNZD5",
        "outputId": "393220f7-b426-4ba5-ec4e-12b07b4ddb8f"
      },
      "execution_count": 1,
      "outputs": [
        {
          "output_type": "stream",
          "name": "stdout",
          "text": [
            "Mounted at /content/drive\n"
          ]
        }
      ]
    },
    {
      "cell_type": "markdown",
      "source": [
        "Reading Data from Drive"
      ],
      "metadata": {
        "id": "tWrOk-jszXcu"
      }
    },
    {
      "cell_type": "code",
      "source": [
        "!unzip \"/content/drive/MyDrive/bank_transactions.csv (1).zip\""
      ],
      "metadata": {
        "colab": {
          "base_uri": "https://localhost:8080/"
        },
        "id": "0Wgt6nkiv-H9",
        "outputId": "1342561e-0002-48c7-ea34-60ee0dbaee24"
      },
      "execution_count": 2,
      "outputs": [
        {
          "output_type": "stream",
          "name": "stdout",
          "text": [
            "Archive:  /content/drive/MyDrive/bank_transactions.csv (1).zip\n",
            "  inflating: bank_transactions.csv   \n"
          ]
        }
      ]
    },
    {
      "cell_type": "markdown",
      "source": [
        "Setting up PySpark in Colab\n",
        "\n",
        "Spark is written in the Scala programming language and requires the Java Virtual Machine (JVM) to run. Therefore, our first task is to download Java.\n",
        "\n",
        "we will install Apache Spark 3.0.1 with Hadoop 2.7 and unzip that folder."
      ],
      "metadata": {
        "id": "pgqZZVFazYwF"
      }
    },
    {
      "cell_type": "code",
      "source": [
        "!apt-get install openjdk-8-jdk-headless -qq > /dev/null"
      ],
      "metadata": {
        "id": "nWy0ZXXsZBfA"
      },
      "execution_count": 3,
      "outputs": []
    },
    {
      "cell_type": "code",
      "source": [
        "!wget -q https://dlcdn.apache.org/spark/spark-3.2.1/spark-3.2.1-bin-hadoop3.2.tgz"
      ],
      "metadata": {
        "id": "e5VTThhGgGqr"
      },
      "execution_count": 4,
      "outputs": []
    },
    {
      "cell_type": "code",
      "source": [
        "!tar xf spark-3.2.1-bin-hadoop3.2.tgz"
      ],
      "metadata": {
        "id": "-ohKLhCagQJM"
      },
      "execution_count": 5,
      "outputs": []
    },
    {
      "cell_type": "markdown",
      "source": [
        "Install Pyspark libraries"
      ],
      "metadata": {
        "id": "nqURXfUn0By9"
      }
    },
    {
      "cell_type": "code",
      "source": [
        "!pip install -q findspark"
      ],
      "metadata": {
        "id": "gI_8Sv-wgc0L"
      },
      "execution_count": 6,
      "outputs": []
    },
    {
      "cell_type": "code",
      "source": [
        "!pip install pyspark\n",
        "import sql"
      ],
      "metadata": {
        "colab": {
          "base_uri": "https://localhost:8080/"
        },
        "id": "wcleoVuVygTM",
        "outputId": "e5266c2d-a193-4d72-c7cc-7c446d56116a"
      },
      "execution_count": 7,
      "outputs": [
        {
          "output_type": "stream",
          "name": "stdout",
          "text": [
            "Collecting pyspark\n",
            "  Downloading pyspark-3.2.1.tar.gz (281.4 MB)\n",
            "\u001b[K     |████████████████████████████████| 281.4 MB 34 kB/s \n",
            "\u001b[?25hCollecting py4j==0.10.9.3\n",
            "  Downloading py4j-0.10.9.3-py2.py3-none-any.whl (198 kB)\n",
            "\u001b[K     |████████████████████████████████| 198 kB 41.5 MB/s \n",
            "\u001b[?25hBuilding wheels for collected packages: pyspark\n",
            "  Building wheel for pyspark (setup.py) ... \u001b[?25l\u001b[?25hdone\n",
            "  Created wheel for pyspark: filename=pyspark-3.2.1-py2.py3-none-any.whl size=281853642 sha256=264c21fa2327e1bdcff76456d4f87f2acba4fbbc6d2f579ea6fc3a9c7ed2ef8e\n",
            "  Stored in directory: /root/.cache/pip/wheels/9f/f5/07/7cd8017084dce4e93e84e92efd1e1d5334db05f2e83bcef74f\n",
            "Successfully built pyspark\n",
            "Installing collected packages: py4j, pyspark\n",
            "Successfully installed py4j-0.10.9.3 pyspark-3.2.1\n"
          ]
        }
      ]
    },
    {
      "cell_type": "markdown",
      "source": [
        "set the environment path. This will enable us to run Pyspark in the Colab environment."
      ],
      "metadata": {
        "id": "GOFIgwxNE_xP"
      }
    },
    {
      "cell_type": "code",
      "source": [
        "import os\n",
        "os.environ[\"JAVA_HOME\"] = \"/usr/lib/jvm/java-8-openjdk-amd64\"\n",
        "os.environ[\"SPARK_HOME\"] = \"/content/spark-3.2.1-bin-hadoop3.2\""
      ],
      "metadata": {
        "id": "jZ7yxRQjgfoi"
      },
      "execution_count": 8,
      "outputs": []
    },
    {
      "cell_type": "code",
      "source": [
        "import findspark\n",
        "findspark.init()"
      ],
      "metadata": {
        "id": "cOv89l5ZhAeg"
      },
      "execution_count": 9,
      "outputs": []
    },
    {
      "cell_type": "code",
      "source": [
        "findspark.find()"
      ],
      "metadata": {
        "colab": {
          "base_uri": "https://localhost:8080/",
          "height": 35
        },
        "id": "qCrA75E2hG6p",
        "outputId": "82b528d6-350a-4b94-b30b-6172520383d3"
      },
      "execution_count": 10,
      "outputs": [
        {
          "output_type": "execute_result",
          "data": {
            "application/vnd.google.colaboratory.intrinsic+json": {
              "type": "string"
            },
            "text/plain": [
              "'/content/spark-3.2.1-bin-hadoop3.2'"
            ]
          },
          "metadata": {},
          "execution_count": 10
        }
      ]
    },
    {
      "cell_type": "markdown",
      "source": [
        "Import SparkSession from pyspark.sql and create a SparkSession, which is the entry point to Spark."
      ],
      "metadata": {
        "id": "mNGmAP7IFZJb"
      }
    },
    {
      "cell_type": "code",
      "source": [
        "import pyspark \n",
        "from pyspark.sql import SparkSession\n",
        "\n",
        "spark = SparkSession.builder\\\n",
        "        .master(\"local\")\\\n",
        "        .appName(\"Bank Customer Segmentation\")\\\n",
        "        .config('spark.ui.port', '4050')\\\n",
        "        .getOrCreate()"
      ],
      "metadata": {
        "id": "NnZS0F_phMpN"
      },
      "execution_count": 11,
      "outputs": []
    },
    {
      "cell_type": "code",
      "source": [
        "sparkContext=spark.sparkContext"
      ],
      "metadata": {
        "id": "3jeU2MK-vso7"
      },
      "execution_count": 12,
      "outputs": []
    },
    {
      "cell_type": "markdown",
      "source": [
        "print the SparkSession variable."
      ],
      "metadata": {
        "id": "BBGRo1T3Fk_m"
      }
    },
    {
      "cell_type": "code",
      "source": [
        "spark"
      ],
      "metadata": {
        "colab": {
          "base_uri": "https://localhost:8080/",
          "height": 219
        },
        "id": "kblUfj0Uhz7v",
        "outputId": "18c5e568-5901-4c65-ad87-6889abac560e"
      },
      "execution_count": 13,
      "outputs": [
        {
          "output_type": "execute_result",
          "data": {
            "text/html": [
              "\n",
              "            <div>\n",
              "                <p><b>SparkSession - in-memory</b></p>\n",
              "                \n",
              "        <div>\n",
              "            <p><b>SparkContext</b></p>\n",
              "\n",
              "            <p><a href=\"http://9df37972c60d:4050\">Spark UI</a></p>\n",
              "\n",
              "            <dl>\n",
              "              <dt>Version</dt>\n",
              "                <dd><code>v3.2.1</code></dd>\n",
              "              <dt>Master</dt>\n",
              "                <dd><code>local</code></dd>\n",
              "              <dt>AppName</dt>\n",
              "                <dd><code>Bank Customer Segmentation</code></dd>\n",
              "            </dl>\n",
              "        </div>\n",
              "        \n",
              "            </div>\n",
              "        "
            ],
            "text/plain": [
              "<pyspark.sql.session.SparkSession at 0x7f356a3ef150>"
            ]
          },
          "metadata": {},
          "execution_count": 13
        }
      ]
    },
    {
      "cell_type": "markdown",
      "source": [
        " Load the dataset. We will use the read.csv module. The inferSchema parameter provided will enable Spark to automatically determine the data type for each column but it has to go over the data once. "
      ],
      "metadata": {
        "id": "dDTlSO60FdcH"
      }
    },
    {
      "cell_type": "code",
      "source": [
        "df = spark.read.csv(\"bank_transactions.csv\", header=True, inferSchema=True)"
      ],
      "metadata": {
        "id": "WWzcEbS0h2o7"
      },
      "execution_count": 14,
      "outputs": []
    },
    {
      "cell_type": "markdown",
      "source": [
        "**Understanding the Dataset**"
      ],
      "metadata": {
        "id": "ePDfOyxSGGC9"
      }
    },
    {
      "cell_type": "code",
      "source": [
        "#df.printSchema()\n",
        "#df.count()"
      ],
      "metadata": {
        "colab": {
          "base_uri": "https://localhost:8080/"
        },
        "id": "c0wKAnP8iKjO",
        "outputId": "33ff1c92-fc9d-4814-d2cb-26b5df63077a"
      },
      "execution_count": null,
      "outputs": [
        {
          "output_type": "stream",
          "name": "stdout",
          "text": [
            "root\n",
            " |-- TransactionID: string (nullable = true)\n",
            " |-- CustomerID: string (nullable = true)\n",
            " |-- CustomerDOB: string (nullable = true)\n",
            " |-- CustGender: string (nullable = true)\n",
            " |-- CustLocation: string (nullable = true)\n",
            " |-- CustAccountBalance: double (nullable = true)\n",
            " |-- TransactionDate: string (nullable = true)\n",
            " |-- TransactionTime: integer (nullable = true)\n",
            " |-- TransactionAmount (INR): double (nullable = true)\n",
            "\n"
          ]
        }
      ]
    },
    {
      "cell_type": "markdown",
      "source": [
        "\n",
        "\n",
        " we can see certain columns have null values. The columns with null values amount to 1 percent of total data, hence dropping the rows with null columns.\n"
      ],
      "metadata": {
        "id": "R9_PZKL3GfT9"
      }
    },
    {
      "cell_type": "code",
      "source": [
        "from pyspark.sql import functions as F\n",
        "df.select([F.count(F.when(F.isnull(c), c)).alias(c) for c in df.columns]).show()"
      ],
      "metadata": {
        "colab": {
          "base_uri": "https://localhost:8080/"
        },
        "id": "-t1R4qOZjabo",
        "outputId": "bdb3c03e-812c-4c93-d491-c6470e3c4564"
      },
      "execution_count": 15,
      "outputs": [
        {
          "output_type": "stream",
          "name": "stdout",
          "text": [
            "+-------------+----------+-----------+----------+------------+------------------+---------------+---------------+-----------------------+\n",
            "|TransactionID|CustomerID|CustomerDOB|CustGender|CustLocation|CustAccountBalance|TransactionDate|TransactionTime|TransactionAmount (INR)|\n",
            "+-------------+----------+-----------+----------+------------+------------------+---------------+---------------+-----------------------+\n",
            "|            0|         0|          0|      1100|         151|              2369|              0|              0|                      0|\n",
            "+-------------+----------+-----------+----------+------------+------------------+---------------+---------------+-----------------------+\n",
            "\n"
          ]
        }
      ]
    },
    {
      "cell_type": "markdown",
      "source": [
        " Transaction ID column has no effect on data analysis, hence dropping the Transaction ID column\n"
      ],
      "metadata": {
        "id": "fEq2uaL7HO7y"
      }
    },
    {
      "cell_type": "code",
      "source": [
        "#drop column transaction id as it is of no use\n",
        "df = df.drop(*['TransactionID'])"
      ],
      "metadata": {
        "id": "BPmjXnyOjuWp"
      },
      "execution_count": 16,
      "outputs": []
    },
    {
      "cell_type": "code",
      "source": [
        "#df.columns\n",
        "df.describe().show()"
      ],
      "metadata": {
        "colab": {
          "base_uri": "https://localhost:8080/"
        },
        "id": "WneniC3Dkk2k",
        "outputId": "d8a22f99-3434-41ca-e76a-5ca23053da94"
      },
      "execution_count": 17,
      "outputs": [
        {
          "output_type": "stream",
          "name": "stdout",
          "text": [
            "+-------+----------+-----------+----------+--------------------+------------------+---------------+------------------+-----------------------+\n",
            "|summary|CustomerID|CustomerDOB|CustGender|        CustLocation|CustAccountBalance|TransactionDate|   TransactionTime|TransactionAmount (INR)|\n",
            "+-------+----------+-----------+----------+--------------------+------------------+---------------+------------------+-----------------------+\n",
            "|  count|   1048567|    1048567|   1047467|             1048416|           1046198|        1048567|           1048567|                1048567|\n",
            "|   mean|      null|        NaN|      null|            400012.0|115403.54005622343|           null|157087.52939297154|     1574.3350034571733|\n",
            "| stddev|      null|        NaN|      null|                 0.0|  846485.380600677|           null| 51261.85402233114|      6574.742978453954|\n",
            "|    min|  C1010011|     1/1/00|         F|(154) BHASKOLA FA...|               0.0|         1/8/16|                 0|                    0.0|\n",
            "|    max|  C9099956|        nan|         T|           ZUNHEBOTO|     1.150354951E8|         9/9/16|            235959|             1560034.99|\n",
            "+-------+----------+-----------+----------+--------------------+------------------+---------------+------------------+-----------------------+\n",
            "\n"
          ]
        }
      ]
    },
    {
      "cell_type": "code",
      "source": [
        "#Drop rows with empty values for column\n",
        "df_1=df.dropna()\n",
        "df_1.show()"
      ],
      "metadata": {
        "colab": {
          "base_uri": "https://localhost:8080/"
        },
        "id": "GbzXj4SdkoML",
        "outputId": "1541f5cf-01df-4b68-983f-64b15fdb8360"
      },
      "execution_count": 18,
      "outputs": [
        {
          "output_type": "stream",
          "name": "stdout",
          "text": [
            "+----------+-----------+----------+------------+------------------+---------------+---------------+-----------------------+\n",
            "|CustomerID|CustomerDOB|CustGender|CustLocation|CustAccountBalance|TransactionDate|TransactionTime|TransactionAmount (INR)|\n",
            "+----------+-----------+----------+------------+------------------+---------------+---------------+-----------------------+\n",
            "|  C5841053|    10/1/94|         F|  JAMSHEDPUR|          17819.05|         2/8/16|         143207|                   25.0|\n",
            "|  C2142763|     4/4/57|         M|     JHAJJAR|           2270.69|         2/8/16|         141858|                27999.0|\n",
            "|  C4417068|   26/11/96|         F|      MUMBAI|          17874.44|         2/8/16|         142712|                  459.0|\n",
            "|  C5342380|    14/9/73|         F|      MUMBAI|         866503.21|         2/8/16|         142714|                 2060.0|\n",
            "|  C9031234|    24/3/88|         F| NAVI MUMBAI|           6714.43|         2/8/16|         181156|                 1762.5|\n",
            "|  C1536588|    8/10/72|         F|    ITANAGAR|           53609.2|         2/8/16|         173940|                  676.0|\n",
            "|  C7126560|    26/1/92|         F|      MUMBAI|            973.46|         2/8/16|         173806|                  566.0|\n",
            "|  C1220223|    27/1/82|         M|      MUMBAI|          95075.54|         2/8/16|         170537|                  148.0|\n",
            "|  C8536061|    19/4/88|         F|     GURGAON|          14906.96|         2/8/16|         192825|                  833.0|\n",
            "|  C6638934|    22/6/84|         M|      MUMBAI|           4279.22|         2/8/16|         192446|                 289.11|\n",
            "|  C5430833|    22/7/82|         M|      MOHALI|          48429.49|         2/8/16|         204133|                  259.0|\n",
            "|  C6939838|     7/7/88|         M|      GUNTUR|          14613.46|         2/8/16|         205108|                  202.0|\n",
            "|  C6339347|    13/6/78|         M|   AHMEDABAD|          32274.78|         2/8/16|         203834|                12300.0|\n",
            "|  C8327851|     5/1/92|         F|       THANE|          59950.44|         1/8/16|          84706|                   50.0|\n",
            "|  C7917151|    24/3/78|         M|        PUNE|          10100.84|         1/8/16|          82253|                  338.0|\n",
            "|  C8334633|    10/7/68|         F|   NEW DELHI|           1283.12|         1/8/16|         125725|                  250.0|\n",
            "|  C1376215|   1/1/1800|         M|      MUMBAI|          77495.15|         1/8/16|         124727|                1423.11|\n",
            "|  C8967349|    16/7/89|         M|      MUMBAI|           2177.85|         1/8/16|         124734|                   54.0|\n",
            "|  C3732016|    11/1/91|         M|      MUMBAI|          32816.17|         1/8/16|         122135|                  315.0|\n",
            "|  C8999019|    24/6/85|         M|        PUNE|           10643.5|         1/8/16|         152821|                  945.0|\n",
            "+----------+-----------+----------+------------+------------------+---------------+---------------+-----------------------+\n",
            "only showing top 20 rows\n",
            "\n"
          ]
        }
      ]
    },
    {
      "cell_type": "code",
      "source": [
        "#df_1.count()\n",
        "#df_1.select([F.count(F.when(F.isnull(c), c)).alias(c) for c in df.columns]).show()"
      ],
      "metadata": {
        "colab": {
          "base_uri": "https://localhost:8080/"
        },
        "id": "OFj57r3kkxq7",
        "outputId": "0ff4db4b-9ed3-4420-9208-2fef5fa61a89"
      },
      "execution_count": null,
      "outputs": [
        {
          "output_type": "execute_result",
          "data": {
            "text/plain": [
              "1044947"
            ]
          },
          "metadata": {},
          "execution_count": 20
        }
      ]
    },
    {
      "cell_type": "markdown",
      "source": [
        "There are a lot of birth date on 1/1/1800, which seems to be default birth date for customers without date of birth detail, hence removed rows with that value as column\n"
      ],
      "metadata": {
        "id": "Ec2bleM1HlfF"
      }
    },
    {
      "cell_type": "code",
      "source": [
        "df_2 = df_1.filter((df_1.CustomerDOB != '1/1/1800'))\n",
        "df_2.count()\n"
      ],
      "metadata": {
        "colab": {
          "base_uri": "https://localhost:8080/"
        },
        "id": "T2g2lKPctReC",
        "outputId": "2d9d0b8b-fec6-4e68-9cd8-9c7e646e06f2"
      },
      "execution_count": 19,
      "outputs": [
        {
          "output_type": "execute_result",
          "data": {
            "text/plain": [
              "988655"
            ]
          },
          "metadata": {},
          "execution_count": 19
        }
      ]
    },
    {
      "cell_type": "markdown",
      "source": [
        "In order to calculate the age of each customer, converted the format of columns CustDOB, TransactionDate into standard pyspark date format format.The recorded details were from the year 2016, in order to find the age, firstly calculated maximum transaction date and subtracted from date of birth of each customer"
      ],
      "metadata": {
        "id": "dBeZZ2QXHqlf"
      }
    },
    {
      "cell_type": "code",
      "source": [
        "from pyspark.sql.functions import translate\n",
        "df_upd=df_2.withColumn('CustomerDOB', translate('CustomerDOB', '/', '-'))\n",
        "df_upd.show(truncate=False)\n"
      ],
      "metadata": {
        "colab": {
          "base_uri": "https://localhost:8080/"
        },
        "id": "9I8iqbXwiF_D",
        "outputId": "3b995389-f310-4392-d24f-022a3a3abd46"
      },
      "execution_count": 20,
      "outputs": [
        {
          "output_type": "stream",
          "name": "stdout",
          "text": [
            "+----------+-----------+----------+-----------------------+------------------+---------------+---------------+-----------------------+\n",
            "|CustomerID|CustomerDOB|CustGender|CustLocation           |CustAccountBalance|TransactionDate|TransactionTime|TransactionAmount (INR)|\n",
            "+----------+-----------+----------+-----------------------+------------------+---------------+---------------+-----------------------+\n",
            "|C5841053  |10-1-94    |F         |JAMSHEDPUR             |17819.05          |2/8/16         |143207         |25.0                   |\n",
            "|C2142763  |4-4-57     |M         |JHAJJAR                |2270.69           |2/8/16         |141858         |27999.0                |\n",
            "|C4417068  |26-11-96   |F         |MUMBAI                 |17874.44          |2/8/16         |142712         |459.0                  |\n",
            "|C5342380  |14-9-73    |F         |MUMBAI                 |866503.21         |2/8/16         |142714         |2060.0                 |\n",
            "|C9031234  |24-3-88    |F         |NAVI MUMBAI            |6714.43           |2/8/16         |181156         |1762.5                 |\n",
            "|C1536588  |8-10-72    |F         |ITANAGAR               |53609.2           |2/8/16         |173940         |676.0                  |\n",
            "|C7126560  |26-1-92    |F         |MUMBAI                 |973.46            |2/8/16         |173806         |566.0                  |\n",
            "|C1220223  |27-1-82    |M         |MUMBAI                 |95075.54          |2/8/16         |170537         |148.0                  |\n",
            "|C8536061  |19-4-88    |F         |GURGAON                |14906.96          |2/8/16         |192825         |833.0                  |\n",
            "|C6638934  |22-6-84    |M         |MUMBAI                 |4279.22           |2/8/16         |192446         |289.11                 |\n",
            "|C5430833  |22-7-82    |M         |MOHALI                 |48429.49          |2/8/16         |204133         |259.0                  |\n",
            "|C6939838  |7-7-88     |M         |GUNTUR                 |14613.46          |2/8/16         |205108         |202.0                  |\n",
            "|C6339347  |13-6-78    |M         |AHMEDABAD              |32274.78          |2/8/16         |203834         |12300.0                |\n",
            "|C8327851  |5-1-92     |F         |THANE                  |59950.44          |1/8/16         |84706          |50.0                   |\n",
            "|C7917151  |24-3-78    |M         |PUNE                   |10100.84          |1/8/16         |82253          |338.0                  |\n",
            "|C8334633  |10-7-68    |F         |NEW DELHI              |1283.12           |1/8/16         |125725         |250.0                  |\n",
            "|C8967349  |16-7-89    |M         |MUMBAI                 |2177.85           |1/8/16         |124734         |54.0                   |\n",
            "|C3732016  |11-1-91    |M         |MUMBAI                 |32816.17          |1/8/16         |122135         |315.0                  |\n",
            "|C8999019  |24-6-85    |M         |PUNE                   |10643.5           |1/8/16         |152821         |945.0                  |\n",
            "|C6121429  |20-4-93    |M         |NO 3 KALYANI NAGAR PUNE|2934.22           |1/8/16         |152824         |36.0                   |\n",
            "+----------+-----------+----------+-----------------------+------------------+---------------+---------------+-----------------------+\n",
            "only showing top 20 rows\n",
            "\n"
          ]
        }
      ]
    },
    {
      "cell_type": "code",
      "source": [
        "spark.conf.set(\"spark.sql.legacy.timeParserPolicy\",\"LEGACY\")"
      ],
      "metadata": {
        "id": "IGjk-7eSm-pJ"
      },
      "execution_count": 21,
      "outputs": []
    },
    {
      "cell_type": "code",
      "source": [
        "from pyspark.sql.functions import to_date\n",
        " \n",
        "df_upd= df_upd.withColumn('DOB',to_date(df_upd.CustomerDOB, 'dd-MM-yy'))\n",
        "df_upd.printSchema()\n",
        "df_upd.select(\"DOB\").dtypes"
      ],
      "metadata": {
        "colab": {
          "base_uri": "https://localhost:8080/"
        },
        "id": "4mhhKng1dsWX",
        "outputId": "c728ac95-7865-4b15-aa05-e8e33e25ae78"
      },
      "execution_count": 22,
      "outputs": [
        {
          "output_type": "stream",
          "name": "stdout",
          "text": [
            "root\n",
            " |-- CustomerID: string (nullable = true)\n",
            " |-- CustomerDOB: string (nullable = true)\n",
            " |-- CustGender: string (nullable = true)\n",
            " |-- CustLocation: string (nullable = true)\n",
            " |-- CustAccountBalance: double (nullable = true)\n",
            " |-- TransactionDate: string (nullable = true)\n",
            " |-- TransactionTime: integer (nullable = true)\n",
            " |-- TransactionAmount (INR): double (nullable = true)\n",
            " |-- DOB: date (nullable = true)\n",
            "\n"
          ]
        },
        {
          "output_type": "execute_result",
          "data": {
            "text/plain": [
              "[('DOB', 'date')]"
            ]
          },
          "metadata": {},
          "execution_count": 22
        }
      ]
    },
    {
      "cell_type": "code",
      "source": [
        "#df_upd.show()"
      ],
      "metadata": {
        "id": "j-N3eDDXnC-f"
      },
      "execution_count": null,
      "outputs": []
    },
    {
      "cell_type": "code",
      "source": [
        "from pyspark.sql.functions import translate\n",
        "df_upd1=df_upd.withColumn('TransactionDate', translate('TransactionDate', '/', '-'))\n",
        "df_upd1.show(truncate=False)"
      ],
      "metadata": {
        "colab": {
          "base_uri": "https://localhost:8080/"
        },
        "id": "jVw3phaB1IBv",
        "outputId": "1d2e324a-0009-4bf0-be2d-90f3e2b676b0"
      },
      "execution_count": 23,
      "outputs": [
        {
          "output_type": "stream",
          "name": "stdout",
          "text": [
            "+----------+-----------+----------+-----------------------+------------------+---------------+---------------+-----------------------+----------+\n",
            "|CustomerID|CustomerDOB|CustGender|CustLocation           |CustAccountBalance|TransactionDate|TransactionTime|TransactionAmount (INR)|DOB       |\n",
            "+----------+-----------+----------+-----------------------+------------------+---------------+---------------+-----------------------+----------+\n",
            "|C5841053  |10-1-94    |F         |JAMSHEDPUR             |17819.05          |2-8-16         |143207         |25.0                   |1994-01-10|\n",
            "|C2142763  |4-4-57     |M         |JHAJJAR                |2270.69           |2-8-16         |141858         |27999.0                |1957-04-04|\n",
            "|C4417068  |26-11-96   |F         |MUMBAI                 |17874.44          |2-8-16         |142712         |459.0                  |1996-11-26|\n",
            "|C5342380  |14-9-73    |F         |MUMBAI                 |866503.21         |2-8-16         |142714         |2060.0                 |1973-09-14|\n",
            "|C9031234  |24-3-88    |F         |NAVI MUMBAI            |6714.43           |2-8-16         |181156         |1762.5                 |1988-03-24|\n",
            "|C1536588  |8-10-72    |F         |ITANAGAR               |53609.2           |2-8-16         |173940         |676.0                  |1972-10-08|\n",
            "|C7126560  |26-1-92    |F         |MUMBAI                 |973.46            |2-8-16         |173806         |566.0                  |1992-01-26|\n",
            "|C1220223  |27-1-82    |M         |MUMBAI                 |95075.54          |2-8-16         |170537         |148.0                  |1982-01-27|\n",
            "|C8536061  |19-4-88    |F         |GURGAON                |14906.96          |2-8-16         |192825         |833.0                  |1988-04-19|\n",
            "|C6638934  |22-6-84    |M         |MUMBAI                 |4279.22           |2-8-16         |192446         |289.11                 |1984-06-22|\n",
            "|C5430833  |22-7-82    |M         |MOHALI                 |48429.49          |2-8-16         |204133         |259.0                  |1982-07-22|\n",
            "|C6939838  |7-7-88     |M         |GUNTUR                 |14613.46          |2-8-16         |205108         |202.0                  |1988-07-07|\n",
            "|C6339347  |13-6-78    |M         |AHMEDABAD              |32274.78          |2-8-16         |203834         |12300.0                |1978-06-13|\n",
            "|C8327851  |5-1-92     |F         |THANE                  |59950.44          |1-8-16         |84706          |50.0                   |1992-01-05|\n",
            "|C7917151  |24-3-78    |M         |PUNE                   |10100.84          |1-8-16         |82253          |338.0                  |1978-03-24|\n",
            "|C8334633  |10-7-68    |F         |NEW DELHI              |1283.12           |1-8-16         |125725         |250.0                  |1968-07-10|\n",
            "|C8967349  |16-7-89    |M         |MUMBAI                 |2177.85           |1-8-16         |124734         |54.0                   |1989-07-16|\n",
            "|C3732016  |11-1-91    |M         |MUMBAI                 |32816.17          |1-8-16         |122135         |315.0                  |1991-01-11|\n",
            "|C8999019  |24-6-85    |M         |PUNE                   |10643.5           |1-8-16         |152821         |945.0                  |1985-06-24|\n",
            "|C6121429  |20-4-93    |M         |NO 3 KALYANI NAGAR PUNE|2934.22           |1-8-16         |152824         |36.0                   |1993-04-20|\n",
            "+----------+-----------+----------+-----------------------+------------------+---------------+---------------+-----------------------+----------+\n",
            "only showing top 20 rows\n",
            "\n"
          ]
        }
      ]
    },
    {
      "cell_type": "code",
      "source": [
        "from pyspark.sql.functions import to_date\n",
        " \n",
        "df_upd1= df_upd1.withColumn('Trans_date',to_date(df_upd1.TransactionDate, 'dd-MM-yy'))\n",
        "df_upd1.printSchema()\n",
        "df_upd1.select(\"Trans_date\").dtypes"
      ],
      "metadata": {
        "colab": {
          "base_uri": "https://localhost:8080/"
        },
        "id": "MUhRnPO1ULfC",
        "outputId": "8c61fe34-7cde-4d50-e5c6-ea840a5f4d59"
      },
      "execution_count": 24,
      "outputs": [
        {
          "output_type": "stream",
          "name": "stdout",
          "text": [
            "root\n",
            " |-- CustomerID: string (nullable = true)\n",
            " |-- CustomerDOB: string (nullable = true)\n",
            " |-- CustGender: string (nullable = true)\n",
            " |-- CustLocation: string (nullable = true)\n",
            " |-- CustAccountBalance: double (nullable = true)\n",
            " |-- TransactionDate: string (nullable = true)\n",
            " |-- TransactionTime: integer (nullable = true)\n",
            " |-- TransactionAmount (INR): double (nullable = true)\n",
            " |-- DOB: date (nullable = true)\n",
            " |-- Trans_date: date (nullable = true)\n",
            "\n"
          ]
        },
        {
          "output_type": "execute_result",
          "data": {
            "text/plain": [
              "[('Trans_date', 'date')]"
            ]
          },
          "metadata": {},
          "execution_count": 24
        }
      ]
    },
    {
      "cell_type": "code",
      "source": [
        "from pyspark.sql import functions as F\n",
        "max_date = df_upd1.select(F.max(df_upd1['Trans_date'])).collect()[0][0]\n",
        "df_upd1 = df_upd1.withColumn('Age', F.datediff(F.lit(max_date), df_upd1['DOB'])/365.25)\n",
        "from pyspark.sql.functions import floor, col\n",
        "##df_upd2.select(\"*\", floor(col('Age'))).show()\n",
        "df_upd1 = df_upd1.withColumn('Cust_Age', F.floor(F.col('Age')))\n",
        "df_upd1.show()\n",
        "\n"
      ],
      "metadata": {
        "colab": {
          "base_uri": "https://localhost:8080/"
        },
        "id": "dTivfgLXjJ1V",
        "outputId": "a49b1a13-053f-4cff-c64a-3c5ebbcc61e5"
      },
      "execution_count": 25,
      "outputs": [
        {
          "output_type": "stream",
          "name": "stdout",
          "text": [
            "+----------+-----------+----------+--------------------+------------------+---------------+---------------+-----------------------+----------+----------+------------------+--------+\n",
            "|CustomerID|CustomerDOB|CustGender|        CustLocation|CustAccountBalance|TransactionDate|TransactionTime|TransactionAmount (INR)|       DOB|Trans_date|               Age|Cust_Age|\n",
            "+----------+-----------+----------+--------------------+------------------+---------------+---------------+-----------------------+----------+----------+------------------+--------+\n",
            "|  C5841053|    10-1-94|         F|          JAMSHEDPUR|          17819.05|         2-8-16|         143207|                   25.0|1994-01-10|2016-08-02| 22.77891854893908|      22|\n",
            "|  C2142763|     4-4-57|         M|             JHAJJAR|           2270.69|         2-8-16|         141858|                27999.0|1957-04-04|2016-08-02|  59.5482546201232|      59|\n",
            "|  C4417068|   26-11-96|         F|              MUMBAI|          17874.44|         2-8-16|         142712|                  459.0|1996-11-26|2016-08-02|19.901437371663246|      19|\n",
            "|  C5342380|    14-9-73|         F|              MUMBAI|         866503.21|         2-8-16|         142714|                 2060.0|1973-09-14|2016-08-02| 43.10198494182067|      43|\n",
            "|  C9031234|    24-3-88|         F|         NAVI MUMBAI|           6714.43|         2-8-16|         181156|                 1762.5|1988-03-24|2016-08-02|28.577686516084874|      28|\n",
            "|  C1536588|    8-10-72|         F|            ITANAGAR|           53609.2|         2-8-16|         173940|                  676.0|1972-10-08|2016-08-02|44.035592060232716|      44|\n",
            "|  C7126560|    26-1-92|         F|              MUMBAI|            973.46|         2-8-16|         173806|                  566.0|1992-01-26|2016-08-02|24.736481861738536|      24|\n",
            "|  C1220223|    27-1-82|         M|              MUMBAI|          95075.54|         2-8-16|         170537|                  148.0|1982-01-27|2016-08-02|34.732375085557834|      34|\n",
            "|  C8536061|    19-4-88|         F|             GURGAON|          14906.96|         2-8-16|         192825|                  833.0|1988-04-19|2016-08-02| 28.50650239561944|      28|\n",
            "|  C6638934|    22-6-84|         M|              MUMBAI|           4279.22|         2-8-16|         192446|                 289.11|1984-06-22|2016-08-02| 32.33127994524298|      32|\n",
            "|  C5430833|    22-7-82|         M|              MOHALI|          48429.49|         2-8-16|         204133|                  259.0|1982-07-22|2016-08-02| 34.25051334702259|      34|\n",
            "|  C6939838|     7-7-88|         M|              GUNTUR|          14613.46|         2-8-16|         205108|                  202.0|1988-07-07|2016-08-02|   28.290212183436|      28|\n",
            "|  C6339347|    13-6-78|         M|           AHMEDABAD|          32274.78|         2-8-16|         203834|                12300.0|1978-06-13|2016-08-02| 38.35728952772074|      38|\n",
            "|  C8327851|     5-1-92|         F|               THANE|          59950.44|         1-8-16|          84706|                   50.0|1992-01-05|2016-08-01| 24.79397672826831|      24|\n",
            "|  C7917151|    24-3-78|         M|                PUNE|          10100.84|         1-8-16|          82253|                  338.0|1978-03-24|2016-08-01| 38.57905544147844|      38|\n",
            "|  C8334633|    10-7-68|         F|           NEW DELHI|           1283.12|         1-8-16|         125725|                  250.0|1968-07-10|2016-08-01| 48.28199863107461|      48|\n",
            "|  C8967349|    16-7-89|         M|              MUMBAI|           2177.85|         1-8-16|         124734|                   54.0|1989-07-16|2016-08-01|27.266255989048595|      27|\n",
            "|  C3732016|    11-1-91|         M|              MUMBAI|          32816.17|         1-8-16|         122135|                  315.0|1991-01-11|2016-08-01|25.776865160848732|      25|\n",
            "|  C8999019|    24-6-85|         M|                PUNE|           10643.5|         1-8-16|         152821|                  945.0|1985-06-24|2016-08-01|31.326488706365502|      31|\n",
            "|  C6121429|    20-4-93|         M|NO 3 KALYANI NAGA...|           2934.22|         1-8-16|         152824|                   36.0|1993-04-20|2016-08-01| 23.50444900752909|      23|\n",
            "+----------+-----------+----------+--------------------+------------------+---------------+---------------+-----------------------+----------+----------+------------------+--------+\n",
            "only showing top 20 rows\n",
            "\n"
          ]
        }
      ]
    },
    {
      "cell_type": "code",
      "source": [
        "df_upd1=df_upd1.withColumnRenamed(\"TransactionAmount (INR)\",\"Trans_Amt\")\n",
        "df_upd1.show()"
      ],
      "metadata": {
        "colab": {
          "base_uri": "https://localhost:8080/"
        },
        "id": "NPHgfivTnq6e",
        "outputId": "8c493144-1276-4cc1-c63b-df9b00d44684"
      },
      "execution_count": 26,
      "outputs": [
        {
          "output_type": "stream",
          "name": "stdout",
          "text": [
            "+----------+-----------+----------+--------------------+------------------+---------------+---------------+---------+----------+----------+------------------+--------+\n",
            "|CustomerID|CustomerDOB|CustGender|        CustLocation|CustAccountBalance|TransactionDate|TransactionTime|Trans_Amt|       DOB|Trans_date|               Age|Cust_Age|\n",
            "+----------+-----------+----------+--------------------+------------------+---------------+---------------+---------+----------+----------+------------------+--------+\n",
            "|  C5841053|    10-1-94|         F|          JAMSHEDPUR|          17819.05|         2-8-16|         143207|     25.0|1994-01-10|2016-08-02| 22.77891854893908|      22|\n",
            "|  C2142763|     4-4-57|         M|             JHAJJAR|           2270.69|         2-8-16|         141858|  27999.0|1957-04-04|2016-08-02|  59.5482546201232|      59|\n",
            "|  C4417068|   26-11-96|         F|              MUMBAI|          17874.44|         2-8-16|         142712|    459.0|1996-11-26|2016-08-02|19.901437371663246|      19|\n",
            "|  C5342380|    14-9-73|         F|              MUMBAI|         866503.21|         2-8-16|         142714|   2060.0|1973-09-14|2016-08-02| 43.10198494182067|      43|\n",
            "|  C9031234|    24-3-88|         F|         NAVI MUMBAI|           6714.43|         2-8-16|         181156|   1762.5|1988-03-24|2016-08-02|28.577686516084874|      28|\n",
            "|  C1536588|    8-10-72|         F|            ITANAGAR|           53609.2|         2-8-16|         173940|    676.0|1972-10-08|2016-08-02|44.035592060232716|      44|\n",
            "|  C7126560|    26-1-92|         F|              MUMBAI|            973.46|         2-8-16|         173806|    566.0|1992-01-26|2016-08-02|24.736481861738536|      24|\n",
            "|  C1220223|    27-1-82|         M|              MUMBAI|          95075.54|         2-8-16|         170537|    148.0|1982-01-27|2016-08-02|34.732375085557834|      34|\n",
            "|  C8536061|    19-4-88|         F|             GURGAON|          14906.96|         2-8-16|         192825|    833.0|1988-04-19|2016-08-02| 28.50650239561944|      28|\n",
            "|  C6638934|    22-6-84|         M|              MUMBAI|           4279.22|         2-8-16|         192446|   289.11|1984-06-22|2016-08-02| 32.33127994524298|      32|\n",
            "|  C5430833|    22-7-82|         M|              MOHALI|          48429.49|         2-8-16|         204133|    259.0|1982-07-22|2016-08-02| 34.25051334702259|      34|\n",
            "|  C6939838|     7-7-88|         M|              GUNTUR|          14613.46|         2-8-16|         205108|    202.0|1988-07-07|2016-08-02|   28.290212183436|      28|\n",
            "|  C6339347|    13-6-78|         M|           AHMEDABAD|          32274.78|         2-8-16|         203834|  12300.0|1978-06-13|2016-08-02| 38.35728952772074|      38|\n",
            "|  C8327851|     5-1-92|         F|               THANE|          59950.44|         1-8-16|          84706|     50.0|1992-01-05|2016-08-01| 24.79397672826831|      24|\n",
            "|  C7917151|    24-3-78|         M|                PUNE|          10100.84|         1-8-16|          82253|    338.0|1978-03-24|2016-08-01| 38.57905544147844|      38|\n",
            "|  C8334633|    10-7-68|         F|           NEW DELHI|           1283.12|         1-8-16|         125725|    250.0|1968-07-10|2016-08-01| 48.28199863107461|      48|\n",
            "|  C8967349|    16-7-89|         M|              MUMBAI|           2177.85|         1-8-16|         124734|     54.0|1989-07-16|2016-08-01|27.266255989048595|      27|\n",
            "|  C3732016|    11-1-91|         M|              MUMBAI|          32816.17|         1-8-16|         122135|    315.0|1991-01-11|2016-08-01|25.776865160848732|      25|\n",
            "|  C8999019|    24-6-85|         M|                PUNE|           10643.5|         1-8-16|         152821|    945.0|1985-06-24|2016-08-01|31.326488706365502|      31|\n",
            "|  C6121429|    20-4-93|         M|NO 3 KALYANI NAGA...|           2934.22|         1-8-16|         152824|     36.0|1993-04-20|2016-08-01| 23.50444900752909|      23|\n",
            "+----------+-----------+----------+--------------------+------------------+---------------+---------------+---------+----------+----------+------------------+--------+\n",
            "only showing top 20 rows\n",
            "\n"
          ]
        }
      ]
    },
    {
      "cell_type": "code",
      "source": [
        "df_fin=df_upd1.filter((df_upd1.Cust_Age > '0'))\n",
        "df_fin.count()"
      ],
      "metadata": {
        "colab": {
          "base_uri": "https://localhost:8080/"
        },
        "id": "-L69IMM0ZEYJ",
        "outputId": "0b360166-681d-4a6f-e6bf-cc628ba96bda"
      },
      "execution_count": 27,
      "outputs": [
        {
          "output_type": "execute_result",
          "data": {
            "text/plain": [
              "983347"
            ]
          },
          "metadata": {},
          "execution_count": 27
        }
      ]
    },
    {
      "cell_type": "markdown",
      "source": [
        "**Calculating RFM (Recency Frequency Monetary)**\n",
        "\n",
        "For behavioural segmentation of customers, RFM attributes needed to be calculated.In order to provide more efficient segmentation of customers, age and account balance of customers were also taken into consideration."
      ],
      "metadata": {
        "id": "pzUA3AZ6Hxw-"
      }
    },
    {
      "cell_type": "code",
      "source": [
        "#Recency\n",
        "from pyspark.sql import functions as F\n",
        "df_fin = df_fin.withColumn('Recent', F.datediff(F.lit(max_date), df_fin['Trans_date']))\n"
      ],
      "metadata": {
        "id": "ggdrDml0ZwNz"
      },
      "execution_count": 28,
      "outputs": []
    },
    {
      "cell_type": "code",
      "source": [
        "df_fin.show()"
      ],
      "metadata": {
        "colab": {
          "base_uri": "https://localhost:8080/"
        },
        "id": "WQYhNc-WbA5N",
        "outputId": "1378e25d-f7fa-48ad-c3fd-095366ae2f57"
      },
      "execution_count": 30,
      "outputs": [
        {
          "output_type": "stream",
          "name": "stdout",
          "text": [
            "+----------+-----------+----------+--------------------+------------------+---------------+---------------+---------+----------+----------+------------------+--------+------+\n",
            "|CustomerID|CustomerDOB|CustGender|        CustLocation|CustAccountBalance|TransactionDate|TransactionTime|Trans_Amt|       DOB|Trans_date|               Age|Cust_Age|Recent|\n",
            "+----------+-----------+----------+--------------------+------------------+---------------+---------------+---------+----------+----------+------------------+--------+------+\n",
            "|  C5841053|    10-1-94|         F|          JAMSHEDPUR|          17819.05|         2-8-16|         143207|     25.0|1994-01-10|2016-08-02| 22.77891854893908|      22|    80|\n",
            "|  C2142763|     4-4-57|         M|             JHAJJAR|           2270.69|         2-8-16|         141858|  27999.0|1957-04-04|2016-08-02|  59.5482546201232|      59|    80|\n",
            "|  C4417068|   26-11-96|         F|              MUMBAI|          17874.44|         2-8-16|         142712|    459.0|1996-11-26|2016-08-02|19.901437371663246|      19|    80|\n",
            "|  C5342380|    14-9-73|         F|              MUMBAI|         866503.21|         2-8-16|         142714|   2060.0|1973-09-14|2016-08-02| 43.10198494182067|      43|    80|\n",
            "|  C9031234|    24-3-88|         F|         NAVI MUMBAI|           6714.43|         2-8-16|         181156|   1762.5|1988-03-24|2016-08-02|28.577686516084874|      28|    80|\n",
            "|  C1536588|    8-10-72|         F|            ITANAGAR|           53609.2|         2-8-16|         173940|    676.0|1972-10-08|2016-08-02|44.035592060232716|      44|    80|\n",
            "|  C7126560|    26-1-92|         F|              MUMBAI|            973.46|         2-8-16|         173806|    566.0|1992-01-26|2016-08-02|24.736481861738536|      24|    80|\n",
            "|  C1220223|    27-1-82|         M|              MUMBAI|          95075.54|         2-8-16|         170537|    148.0|1982-01-27|2016-08-02|34.732375085557834|      34|    80|\n",
            "|  C8536061|    19-4-88|         F|             GURGAON|          14906.96|         2-8-16|         192825|    833.0|1988-04-19|2016-08-02| 28.50650239561944|      28|    80|\n",
            "|  C6638934|    22-6-84|         M|              MUMBAI|           4279.22|         2-8-16|         192446|   289.11|1984-06-22|2016-08-02| 32.33127994524298|      32|    80|\n",
            "|  C5430833|    22-7-82|         M|              MOHALI|          48429.49|         2-8-16|         204133|    259.0|1982-07-22|2016-08-02| 34.25051334702259|      34|    80|\n",
            "|  C6939838|     7-7-88|         M|              GUNTUR|          14613.46|         2-8-16|         205108|    202.0|1988-07-07|2016-08-02|   28.290212183436|      28|    80|\n",
            "|  C6339347|    13-6-78|         M|           AHMEDABAD|          32274.78|         2-8-16|         203834|  12300.0|1978-06-13|2016-08-02| 38.35728952772074|      38|    80|\n",
            "|  C8327851|     5-1-92|         F|               THANE|          59950.44|         1-8-16|          84706|     50.0|1992-01-05|2016-08-01| 24.79397672826831|      24|    81|\n",
            "|  C7917151|    24-3-78|         M|                PUNE|          10100.84|         1-8-16|          82253|    338.0|1978-03-24|2016-08-01| 38.57905544147844|      38|    81|\n",
            "|  C8334633|    10-7-68|         F|           NEW DELHI|           1283.12|         1-8-16|         125725|    250.0|1968-07-10|2016-08-01| 48.28199863107461|      48|    81|\n",
            "|  C8967349|    16-7-89|         M|              MUMBAI|           2177.85|         1-8-16|         124734|     54.0|1989-07-16|2016-08-01|27.266255989048595|      27|    81|\n",
            "|  C3732016|    11-1-91|         M|              MUMBAI|          32816.17|         1-8-16|         122135|    315.0|1991-01-11|2016-08-01|25.776865160848732|      25|    81|\n",
            "|  C8999019|    24-6-85|         M|                PUNE|           10643.5|         1-8-16|         152821|    945.0|1985-06-24|2016-08-01|31.326488706365502|      31|    81|\n",
            "|  C6121429|    20-4-93|         M|NO 3 KALYANI NAGA...|           2934.22|         1-8-16|         152824|     36.0|1993-04-20|2016-08-01| 23.50444900752909|      23|    81|\n",
            "+----------+-----------+----------+--------------------+------------------+---------------+---------------+---------+----------+----------+------------------+--------+------+\n",
            "only showing top 20 rows\n",
            "\n"
          ]
        }
      ]
    },
    {
      "cell_type": "code",
      "source": [
        "from pyspark.sql.functions import *\n",
        "recency = df_fin.groupBy('CustomerID').agg(min('Recent').alias('Recency'))\n",
        "recency.show()"
      ],
      "metadata": {
        "colab": {
          "base_uri": "https://localhost:8080/"
        },
        "id": "VKrM8dBxbr-c",
        "outputId": "ef9e93fc-294e-4b89-b672-81eef6eb0635"
      },
      "execution_count": 29,
      "outputs": [
        {
          "output_type": "stream",
          "name": "stdout",
          "text": [
            "+----------+-------+\n",
            "|CustomerID|Recency|\n",
            "+----------+-------+\n",
            "|  C8732711|      0|\n",
            "|  C6421261|      0|\n",
            "|  C2939112|      0|\n",
            "|  C8741166|      0|\n",
            "|  C4440931|      0|\n",
            "|  C8116854|      0|\n",
            "|  C4029960|      0|\n",
            "|  C7817677|      0|\n",
            "|  C4240562|      0|\n",
            "|  C2221420|      0|\n",
            "|  C8524541|      0|\n",
            "|  C5638051|      0|\n",
            "|  C2331867|      0|\n",
            "|  C5534211|      0|\n",
            "|  C4940219|      0|\n",
            "|  C2230276|      0|\n",
            "|  C4341556|      0|\n",
            "|  C7283217|      0|\n",
            "|  C3825339|      0|\n",
            "|  C4138928|      0|\n",
            "+----------+-------+\n",
            "only showing top 20 rows\n",
            "\n"
          ]
        }
      ]
    },
    {
      "cell_type": "code",
      "source": [
        "Age = df_fin.select('CustomerID',\"Cust_Age\").distinct()\n",
        "Age.show()"
      ],
      "metadata": {
        "colab": {
          "base_uri": "https://localhost:8080/"
        },
        "id": "x_YN0_On_o3Y",
        "outputId": "bf670d79-0c9f-4355-9206-ef2babecca2e"
      },
      "execution_count": 30,
      "outputs": [
        {
          "output_type": "stream",
          "name": "stdout",
          "text": [
            "+----------+--------+\n",
            "|CustomerID|Cust_Age|\n",
            "+----------+--------+\n",
            "|  C1239292|      29|\n",
            "|  C4327789|      34|\n",
            "|  C8623668|      35|\n",
            "|  C2132121|      30|\n",
            "|  C4311142|      59|\n",
            "|  C5816277|      26|\n",
            "|  C8131279|      27|\n",
            "|  C2426546|      31|\n",
            "|  C2536260|      33|\n",
            "|  C6639430|      34|\n",
            "|  C4017276|      36|\n",
            "|  C4837990|      25|\n",
            "|  C8970942|      32|\n",
            "|  C4435153|      23|\n",
            "|  C7136845|      41|\n",
            "|  C7318261|      23|\n",
            "|  C6733857|      45|\n",
            "|  C8728166|      24|\n",
            "|  C4611187|      21|\n",
            "|  C4039120|      33|\n",
            "+----------+--------+\n",
            "only showing top 20 rows\n",
            "\n"
          ]
        }
      ]
    },
    {
      "cell_type": "code",
      "source": [
        "from pyspark.sql.functions import *\n",
        "frequency = df_fin.groupBy('CustomerID', 'TransactionDate').count()\\\n",
        "                        .groupBy('CustomerID')\\\n",
        "                        .agg(count(\"*\").alias(\"Frequency\"))"
      ],
      "metadata": {
        "id": "qcPyMppei2ye"
      },
      "execution_count": 31,
      "outputs": []
    },
    {
      "cell_type": "code",
      "source": [
        "frequency.show()"
      ],
      "metadata": {
        "id": "vRdaU3aJRxoa",
        "colab": {
          "base_uri": "https://localhost:8080/"
        },
        "outputId": "dac02e5d-dced-4c4d-9e1d-0800b0054dc0"
      },
      "execution_count": 34,
      "outputs": [
        {
          "output_type": "stream",
          "name": "stdout",
          "text": [
            "+----------+---------+\n",
            "|CustomerID|Frequency|\n",
            "+----------+---------+\n",
            "|  C1715040|        1|\n",
            "|  C1863042|        1|\n",
            "|  C8215829|        1|\n",
            "|  C2132256|        1|\n",
            "|  C2930516|        1|\n",
            "|  C4454278|        1|\n",
            "|  C8123357|        1|\n",
            "|  C2911183|        1|\n",
            "|  C7637618|        2|\n",
            "|  C3329218|        1|\n",
            "|  C7017149|        3|\n",
            "|  C7914281|        1|\n",
            "|  C5625966|        1|\n",
            "|  C7515046|        1|\n",
            "|  C8716463|        1|\n",
            "|  C1218338|        1|\n",
            "|  C3966179|        1|\n",
            "|  C5675265|        1|\n",
            "|  C4437484|        1|\n",
            "|  C7829736|        4|\n",
            "+----------+---------+\n",
            "only showing top 20 rows\n",
            "\n"
          ]
        }
      ]
    },
    {
      "cell_type": "code",
      "source": [
        "monetary = df_fin.groupBy('CustomerID').agg(round(sum('Trans_Amt'), 2).alias('Monetary'))"
      ],
      "metadata": {
        "id": "k0Gc77lCnvOd"
      },
      "execution_count": 32,
      "outputs": []
    },
    {
      "cell_type": "code",
      "source": [
        "monetary.show()"
      ],
      "metadata": {
        "id": "Oi24hABLtRBI",
        "colab": {
          "base_uri": "https://localhost:8080/"
        },
        "outputId": "8e40d3b0-d08f-4c49-e894-f690b07e8c1d"
      },
      "execution_count": 36,
      "outputs": [
        {
          "output_type": "stream",
          "name": "stdout",
          "text": [
            "+----------+--------+\n",
            "|CustomerID|Monetary|\n",
            "+----------+--------+\n",
            "|  C8732711|  1423.0|\n",
            "|  C6421261|  9848.0|\n",
            "|  C2939112|   497.0|\n",
            "|  C8741166| 1512.75|\n",
            "|  C4440931|   200.0|\n",
            "|  C8116854|   270.0|\n",
            "|  C4029960|    50.0|\n",
            "|  C7817677|  4498.0|\n",
            "|  C4240562|   446.0|\n",
            "|  C2221420|   618.0|\n",
            "|  C8524541|   445.0|\n",
            "|  C5638051|  4361.9|\n",
            "|  C2331867|  1900.0|\n",
            "|  C5534211|  166.37|\n",
            "|  C4940219|   460.0|\n",
            "|  C2230276|  4157.1|\n",
            "|  C4341556|   430.0|\n",
            "|  C7283217|   500.0|\n",
            "|  C3825339|   330.0|\n",
            "|  C4138928|    80.0|\n",
            "+----------+--------+\n",
            "only showing top 20 rows\n",
            "\n"
          ]
        }
      ]
    },
    {
      "cell_type": "code",
      "source": [
        "Acct_balance = df_fin.groupBy('CustomerID').agg(round(sum('CustAccountBalance'), 2).alias('Acct_balance'))"
      ],
      "metadata": {
        "id": "aeMfYXTs5zaE"
      },
      "execution_count": 33,
      "outputs": []
    },
    {
      "cell_type": "code",
      "source": [
        "Acct_balance.show()"
      ],
      "metadata": {
        "id": "O-ROpq196IYT",
        "colab": {
          "base_uri": "https://localhost:8080/"
        },
        "outputId": "99a5cac3-9ef4-4f13-c9dc-fd9860ad44fe"
      },
      "execution_count": 38,
      "outputs": [
        {
          "output_type": "stream",
          "name": "stdout",
          "text": [
            "+----------+------------+\n",
            "|CustomerID|Acct_balance|\n",
            "+----------+------------+\n",
            "|  C8732711|    82130.58|\n",
            "|  C6421261|    114656.4|\n",
            "|  C2939112|     8811.89|\n",
            "|  C8741166|    77948.53|\n",
            "|  C4440931|    20910.78|\n",
            "|  C8116854|   511134.58|\n",
            "|  C4029960|    26683.46|\n",
            "|  C7817677|    35146.59|\n",
            "|  C4240562|     59714.7|\n",
            "|  C2221420|     5301.42|\n",
            "|  C8524541|       136.2|\n",
            "|  C5638051|   382526.28|\n",
            "|  C2331867|    78001.29|\n",
            "|  C5534211|    55824.26|\n",
            "|  C4940219|    22686.03|\n",
            "|  C2230276|    13913.45|\n",
            "|  C4341556|      6412.6|\n",
            "|  C7283217|    40306.62|\n",
            "|  C3825339|    25273.91|\n",
            "|  C4138928|    21712.39|\n",
            "+----------+------------+\n",
            "only showing top 20 rows\n",
            "\n"
          ]
        }
      ]
    },
    {
      "cell_type": "code",
      "source": [
        "rfm = Age.join(recency,'CustomerID', how = 'inner')\\\n",
        ".join(frequency,'CustomerID', how = 'inner')\\\n",
        "             .join(monetary,'CustomerID', how = 'inner')\\\n",
        "             .join(Acct_balance,'CustomerID', how = 'inner')\n",
        "rfm.show()"
      ],
      "metadata": {
        "colab": {
          "base_uri": "https://localhost:8080/"
        },
        "id": "ttdt7cAo6RdU",
        "outputId": "c9f0c4ad-0322-499b-b51d-54df905d479f"
      },
      "execution_count": 34,
      "outputs": [
        {
          "output_type": "stream",
          "name": "stdout",
          "text": [
            "+----------+--------+-------+---------+--------+------------+\n",
            "|CustomerID|Cust_Age|Recency|Frequency|Monetary|Acct_balance|\n",
            "+----------+--------+-------+---------+--------+------------+\n",
            "|  C1010011|      24|     25|        2|  5106.0|   152681.27|\n",
            "|  C1010011|      33|     25|        2|  5106.0|   152681.27|\n",
            "|  C1010012|      22|     68|        1|  1499.0|    24204.49|\n",
            "|  C1010014|      32|     75|        2|  1455.0|    200225.9|\n",
            "|  C1010014|      24|     75|        2|  1455.0|    200225.9|\n",
            "|  C1010018|      26|     36|        1|    30.0|      496.18|\n",
            "|  C1010024|      51|     64|        1|  5000.0|    87058.65|\n",
            "|  C1010028|      28|     53|        1|   557.0|   296828.37|\n",
            "|  C1010031|      32|     78|        2|  1864.0|    10400.31|\n",
            "|  C1010031|      28|     78|        2|  1864.0|    10400.31|\n",
            "|  C1010035|      24|     55|        2|   750.0|   385297.51|\n",
            "|  C1010035|      36|     55|        2|   750.0|   385297.51|\n",
            "|  C1010036|      20|     56|        1|   208.0|   355430.17|\n",
            "|  C1010037|      35|     73|        1| 19680.0|    95859.17|\n",
            "|  C1010038|      24|     44|        1|   100.0|     1290.76|\n",
            "|  C1010039|      18|     49|        1|   915.0|    11027.18|\n",
            "|  C1010041|      23|     41|        3| 16917.0|   782142.18|\n",
            "|  C1010041|      41|     41|        3| 16917.0|   782142.18|\n",
            "|  C1010041|      24|     41|        3| 16917.0|   782142.18|\n",
            "|  C1010045|      29|     64|        1|   201.0|     7051.72|\n",
            "+----------+--------+-------+---------+--------+------------+\n",
            "only showing top 20 rows\n",
            "\n"
          ]
        }
      ]
    },
    {
      "cell_type": "markdown",
      "source": [
        "Dropping the customer ID column as the feature is not considered for evaluation."
      ],
      "metadata": {
        "id": "gdVRrm3rIIvF"
      }
    },
    {
      "cell_type": "code",
      "source": [
        "RFM1_F= rfm.drop(*['CustomerID'])\n",
        "RFM1_F.show()"
      ],
      "metadata": {
        "colab": {
          "base_uri": "https://localhost:8080/"
        },
        "id": "8vGJK280eJKS",
        "outputId": "6f490774-e166-4e02-8eb6-55b42a172b8e"
      },
      "execution_count": 35,
      "outputs": [
        {
          "output_type": "stream",
          "name": "stdout",
          "text": [
            "+--------+-------+---------+--------+------------+\n",
            "|Cust_Age|Recency|Frequency|Monetary|Acct_balance|\n",
            "+--------+-------+---------+--------+------------+\n",
            "|      24|     25|        2|  5106.0|   152681.27|\n",
            "|      33|     25|        2|  5106.0|   152681.27|\n",
            "|      22|     68|        1|  1499.0|    24204.49|\n",
            "|      32|     75|        2|  1455.0|    200225.9|\n",
            "|      24|     75|        2|  1455.0|    200225.9|\n",
            "|      26|     36|        1|    30.0|      496.18|\n",
            "|      51|     64|        1|  5000.0|    87058.65|\n",
            "|      28|     53|        1|   557.0|   296828.37|\n",
            "|      32|     78|        2|  1864.0|    10400.31|\n",
            "|      28|     78|        2|  1864.0|    10400.31|\n",
            "|      24|     55|        2|   750.0|   385297.51|\n",
            "|      36|     55|        2|   750.0|   385297.51|\n",
            "|      20|     56|        1|   208.0|   355430.17|\n",
            "|      35|     73|        1| 19680.0|    95859.17|\n",
            "|      24|     44|        1|   100.0|     1290.76|\n",
            "|      18|     49|        1|   915.0|    11027.18|\n",
            "|      23|     41|        3| 16917.0|   782142.18|\n",
            "|      41|     41|        3| 16917.0|   782142.18|\n",
            "|      24|     41|        3| 16917.0|   782142.18|\n",
            "|      29|     64|        1|   201.0|     7051.72|\n",
            "+--------+-------+---------+--------+------------+\n",
            "only showing top 20 rows\n",
            "\n"
          ]
        }
      ]
    },
    {
      "cell_type": "code",
      "source": [
        "RFM1_F.describe().show()\n"
      ],
      "metadata": {
        "colab": {
          "base_uri": "https://localhost:8080/"
        },
        "id": "k-PpZOPMCN6X",
        "outputId": "ca09ddaa-6610-43dc-b9fa-4e8151949bc5"
      },
      "execution_count": 36,
      "outputs": [
        {
          "output_type": "stream",
          "name": "stdout",
          "text": [
            "+-------+------------------+-----------------+------------------+-----------------+-----------------+\n",
            "|summary|          Cust_Age|          Recency|         Frequency|         Monetary|     Acct_balance|\n",
            "+-------+------------------+-----------------+------------------+-----------------+-----------------+\n",
            "|  count|            974733|           974733|            974733|           974733|           974733|\n",
            "|   mean|30.774911693766395|54.24509378465692|1.3182902394809655|1925.094506321348|138876.3793704489|\n",
            "| stddev| 8.512348297544058|15.21532046568115|0.5742486425327367| 7012.77732596047|852674.5584044547|\n",
            "|    min|                 1|                0|                 1|              0.0|              0.0|\n",
            "|    max|                74|               81|                 6|       1560034.99|   1.1520674626E8|\n",
            "+-------+------------------+-----------------+------------------+-----------------+-----------------+\n",
            "\n"
          ]
        }
      ]
    },
    {
      "cell_type": "markdown",
      "source": [
        "**Exploratory Data Analysis**\n",
        "\n",
        "For Exploratory Data Analysis python data visualization libraries were used. In order to plot graph and charts more efficiently in colab, Pyspark dataframe is converted to pandas dataframe using Topandas() method. This action will collects data from all Pyspark clusters and converts them to pandas dataframe. \n",
        "Matplotlib and seaborn libraries were used for data analysis to understand key insights from the dataset for modelling. Below are the inferences made from analysis that can help bank to predict best action for each group:\n"
      ],
      "metadata": {
        "id": "5gbuNk4UY9ML"
      }
    },
    {
      "cell_type": "code",
      "source": [
        "pdf = rfm.toPandas()\n"
      ],
      "metadata": {
        "id": "pMgxtByDB2Lg"
      },
      "execution_count": 37,
      "outputs": []
    },
    {
      "cell_type": "code",
      "source": [
        "pdf.describe()"
      ],
      "metadata": {
        "id": "CsVRgn9_kJQN",
        "colab": {
          "base_uri": "https://localhost:8080/",
          "height": 300
        },
        "outputId": "23ffcafa-18f1-492a-e728-919e9359b740"
      },
      "execution_count": 46,
      "outputs": [
        {
          "output_type": "execute_result",
          "data": {
            "text/html": [
              "\n",
              "  <div id=\"df-332a3caf-f6cf-4249-84fe-b62b2e6c7645\">\n",
              "    <div class=\"colab-df-container\">\n",
              "      <div>\n",
              "<style scoped>\n",
              "    .dataframe tbody tr th:only-of-type {\n",
              "        vertical-align: middle;\n",
              "    }\n",
              "\n",
              "    .dataframe tbody tr th {\n",
              "        vertical-align: top;\n",
              "    }\n",
              "\n",
              "    .dataframe thead th {\n",
              "        text-align: right;\n",
              "    }\n",
              "</style>\n",
              "<table border=\"1\" class=\"dataframe\">\n",
              "  <thead>\n",
              "    <tr style=\"text-align: right;\">\n",
              "      <th></th>\n",
              "      <th>Cust_Age</th>\n",
              "      <th>Recency</th>\n",
              "      <th>Frequency</th>\n",
              "      <th>Monetary</th>\n",
              "      <th>Acct_balance</th>\n",
              "    </tr>\n",
              "  </thead>\n",
              "  <tbody>\n",
              "    <tr>\n",
              "      <th>count</th>\n",
              "      <td>974733.000000</td>\n",
              "      <td>974733.000000</td>\n",
              "      <td>974733.000000</td>\n",
              "      <td>9.747330e+05</td>\n",
              "      <td>9.747330e+05</td>\n",
              "    </tr>\n",
              "    <tr>\n",
              "      <th>mean</th>\n",
              "      <td>30.774912</td>\n",
              "      <td>54.245094</td>\n",
              "      <td>1.318290</td>\n",
              "      <td>1.925095e+03</td>\n",
              "      <td>1.388764e+05</td>\n",
              "    </tr>\n",
              "    <tr>\n",
              "      <th>std</th>\n",
              "      <td>8.512348</td>\n",
              "      <td>15.215320</td>\n",
              "      <td>0.574249</td>\n",
              "      <td>7.012777e+03</td>\n",
              "      <td>8.526746e+05</td>\n",
              "    </tr>\n",
              "    <tr>\n",
              "      <th>min</th>\n",
              "      <td>1.000000</td>\n",
              "      <td>0.000000</td>\n",
              "      <td>1.000000</td>\n",
              "      <td>0.000000e+00</td>\n",
              "      <td>0.000000e+00</td>\n",
              "    </tr>\n",
              "    <tr>\n",
              "      <th>25%</th>\n",
              "      <td>25.000000</td>\n",
              "      <td>42.000000</td>\n",
              "      <td>1.000000</td>\n",
              "      <td>2.070000e+02</td>\n",
              "      <td>6.971520e+03</td>\n",
              "    </tr>\n",
              "    <tr>\n",
              "      <th>50%</th>\n",
              "      <td>29.000000</td>\n",
              "      <td>53.000000</td>\n",
              "      <td>1.000000</td>\n",
              "      <td>6.000000e+02</td>\n",
              "      <td>2.412016e+04</td>\n",
              "    </tr>\n",
              "    <tr>\n",
              "      <th>75%</th>\n",
              "      <td>34.000000</td>\n",
              "      <td>67.000000</td>\n",
              "      <td>2.000000</td>\n",
              "      <td>1.648010e+03</td>\n",
              "      <td>8.140571e+04</td>\n",
              "    </tr>\n",
              "    <tr>\n",
              "      <th>max</th>\n",
              "      <td>74.000000</td>\n",
              "      <td>81.000000</td>\n",
              "      <td>6.000000</td>\n",
              "      <td>1.560035e+06</td>\n",
              "      <td>1.152067e+08</td>\n",
              "    </tr>\n",
              "  </tbody>\n",
              "</table>\n",
              "</div>\n",
              "      <button class=\"colab-df-convert\" onclick=\"convertToInteractive('df-332a3caf-f6cf-4249-84fe-b62b2e6c7645')\"\n",
              "              title=\"Convert this dataframe to an interactive table.\"\n",
              "              style=\"display:none;\">\n",
              "        \n",
              "  <svg xmlns=\"http://www.w3.org/2000/svg\" height=\"24px\"viewBox=\"0 0 24 24\"\n",
              "       width=\"24px\">\n",
              "    <path d=\"M0 0h24v24H0V0z\" fill=\"none\"/>\n",
              "    <path d=\"M18.56 5.44l.94 2.06.94-2.06 2.06-.94-2.06-.94-.94-2.06-.94 2.06-2.06.94zm-11 1L8.5 8.5l.94-2.06 2.06-.94-2.06-.94L8.5 2.5l-.94 2.06-2.06.94zm10 10l.94 2.06.94-2.06 2.06-.94-2.06-.94-.94-2.06-.94 2.06-2.06.94z\"/><path d=\"M17.41 7.96l-1.37-1.37c-.4-.4-.92-.59-1.43-.59-.52 0-1.04.2-1.43.59L10.3 9.45l-7.72 7.72c-.78.78-.78 2.05 0 2.83L4 21.41c.39.39.9.59 1.41.59.51 0 1.02-.2 1.41-.59l7.78-7.78 2.81-2.81c.8-.78.8-2.07 0-2.86zM5.41 20L4 18.59l7.72-7.72 1.47 1.35L5.41 20z\"/>\n",
              "  </svg>\n",
              "      </button>\n",
              "      \n",
              "  <style>\n",
              "    .colab-df-container {\n",
              "      display:flex;\n",
              "      flex-wrap:wrap;\n",
              "      gap: 12px;\n",
              "    }\n",
              "\n",
              "    .colab-df-convert {\n",
              "      background-color: #E8F0FE;\n",
              "      border: none;\n",
              "      border-radius: 50%;\n",
              "      cursor: pointer;\n",
              "      display: none;\n",
              "      fill: #1967D2;\n",
              "      height: 32px;\n",
              "      padding: 0 0 0 0;\n",
              "      width: 32px;\n",
              "    }\n",
              "\n",
              "    .colab-df-convert:hover {\n",
              "      background-color: #E2EBFA;\n",
              "      box-shadow: 0px 1px 2px rgba(60, 64, 67, 0.3), 0px 1px 3px 1px rgba(60, 64, 67, 0.15);\n",
              "      fill: #174EA6;\n",
              "    }\n",
              "\n",
              "    [theme=dark] .colab-df-convert {\n",
              "      background-color: #3B4455;\n",
              "      fill: #D2E3FC;\n",
              "    }\n",
              "\n",
              "    [theme=dark] .colab-df-convert:hover {\n",
              "      background-color: #434B5C;\n",
              "      box-shadow: 0px 1px 3px 1px rgba(0, 0, 0, 0.15);\n",
              "      filter: drop-shadow(0px 1px 2px rgba(0, 0, 0, 0.3));\n",
              "      fill: #FFFFFF;\n",
              "    }\n",
              "  </style>\n",
              "\n",
              "      <script>\n",
              "        const buttonEl =\n",
              "          document.querySelector('#df-332a3caf-f6cf-4249-84fe-b62b2e6c7645 button.colab-df-convert');\n",
              "        buttonEl.style.display =\n",
              "          google.colab.kernel.accessAllowed ? 'block' : 'none';\n",
              "\n",
              "        async function convertToInteractive(key) {\n",
              "          const element = document.querySelector('#df-332a3caf-f6cf-4249-84fe-b62b2e6c7645');\n",
              "          const dataTable =\n",
              "            await google.colab.kernel.invokeFunction('convertToInteractive',\n",
              "                                                     [key], {});\n",
              "          if (!dataTable) return;\n",
              "\n",
              "          const docLinkHtml = 'Like what you see? Visit the ' +\n",
              "            '<a target=\"_blank\" href=https://colab.research.google.com/notebooks/data_table.ipynb>data table notebook</a>'\n",
              "            + ' to learn more about interactive tables.';\n",
              "          element.innerHTML = '';\n",
              "          dataTable['output_type'] = 'display_data';\n",
              "          await google.colab.output.renderOutput(dataTable, element);\n",
              "          const docLink = document.createElement('div');\n",
              "          docLink.innerHTML = docLinkHtml;\n",
              "          element.appendChild(docLink);\n",
              "        }\n",
              "      </script>\n",
              "    </div>\n",
              "  </div>\n",
              "  "
            ],
            "text/plain": [
              "            Cust_Age        Recency      Frequency      Monetary  Acct_balance\n",
              "count  974733.000000  974733.000000  974733.000000  9.747330e+05  9.747330e+05\n",
              "mean       30.774912      54.245094       1.318290  1.925095e+03  1.388764e+05\n",
              "std         8.512348      15.215320       0.574249  7.012777e+03  8.526746e+05\n",
              "min         1.000000       0.000000       1.000000  0.000000e+00  0.000000e+00\n",
              "25%        25.000000      42.000000       1.000000  2.070000e+02  6.971520e+03\n",
              "50%        29.000000      53.000000       1.000000  6.000000e+02  2.412016e+04\n",
              "75%        34.000000      67.000000       2.000000  1.648010e+03  8.140571e+04\n",
              "max        74.000000      81.000000       6.000000  1.560035e+06  1.152067e+08"
            ]
          },
          "metadata": {},
          "execution_count": 46
        }
      ]
    },
    {
      "cell_type": "code",
      "source": [
        "#average Age distribution\n",
        "\n",
        "import matplotlib.pyplot as plt\n",
        "import seaborn as sns\n"
      ],
      "metadata": {
        "id": "pxlfLb8rW1R2"
      },
      "execution_count": 44,
      "outputs": []
    },
    {
      "cell_type": "markdown",
      "source": [
        "Understanding correlation between features of the Dataset"
      ],
      "metadata": {
        "id": "KVnGPwQaJ-fs"
      }
    },
    {
      "cell_type": "code",
      "source": [
        "sns.pairplot(pdf)\n",
        "plt.show()"
      ],
      "metadata": {
        "colab": {
          "base_uri": "https://localhost:8080/",
          "height": 903
        },
        "id": "ynofFWyXYcVY",
        "outputId": "bb527f16-226d-419c-8ca9-cd28765ba492"
      },
      "execution_count": 56,
      "outputs": [
        {
          "output_type": "display_data",
          "data": {
            "image/png": "[encoded data removed]",
            "text/plain": [
              "<Figure size 900x900 with 30 Axes>"
            ]
          },
          "metadata": {
            "needs_background": "light"
          }
        }
      ]
    },
    {
      "cell_type": "code",
      "source": [
        "corrMatrix = pdf.corr()\n",
        "sns.heatmap(corrMatrix, annot=True)\n",
        "plt.show()"
      ],
      "metadata": {
        "id": "NgBc7eaRNCD0",
        "colab": {
          "base_uri": "https://localhost:8080/",
          "height": 325
        },
        "outputId": "b9178cc5-0149-4578-e3a7-30c285090031"
      },
      "execution_count": 41,
      "outputs": [
        {
          "output_type": "display_data",
          "data": {
            "image/png": "[encoded data removed]",
            "text/plain": [
              "<Figure size 432x288 with 2 Axes>"
            ]
          },
          "metadata": {
            "needs_background": "light"
          }
        }
      ]
    },
    {
      "cell_type": "code",
      "source": [
        "plt.figure(figsize=(10,5))\n",
        "plt.title(\"Customer Age Distribution\")\n",
        "plt.xlabel(\"Customer Age\")\n",
        "plt.ylabel(\"Number of Customers\")\n",
        "#plt.hist(pdf.Cust_Age[pdf.Cust_Age>0],bins=10,color=\"green\")\n",
        "plt.hist(pdf.Cust_Age,bins=10,color=\"green\")\n",
        "plt.ylim(1000, 1000000)\n",
        "#plt.xlim(0, 100)\n",
        "plt.tick_params(bottom=False,left=False)\n",
        "plt.ticklabel_format(style='plain')\n",
        "plt.show()\n",
        "\n"
      ],
      "metadata": {
        "id": "Pmga11IZLW9G",
        "colab": {
          "base_uri": "https://localhost:8080/",
          "height": 350
        },
        "outputId": "c10eef5c-5f8d-4b2b-ffda-ee0936c38cdc"
      },
      "execution_count": 45,
      "outputs": [
        {
          "output_type": "display_data",
          "data": {
            "image/png": "[encoded data removed]",
            "text/plain": [
              "<Figure size 720x360 with 1 Axes>"
            ]
          },
          "metadata": {
            "needs_background": "light"
          }
        }
      ]
    },
    {
      "cell_type": "markdown",
      "source": [
        "Inference : we can clearly see that majority of customers of the bank were in the age range of 25 to 30, followed by age range of 30 to 35."
      ],
      "metadata": {
        "id": "tSHhC-hf90eW"
      }
    },
    {
      "cell_type": "code",
      "source": [
        "plt.figure(figsize=(10,5))\n",
        "plt.title(\"Age Vs Recency\")\n",
        "plt.xlabel(\"Age\")\n",
        "plt.ylabel(\"Recency\")\n",
        "plt.scatter(pdf.Cust_Age,pdf.Recency)\n",
        "#plt.xlim(10, 80)\n",
        "plt.xlim(10, 100)\n",
        "\n",
        "plt.tick_params(bottom=False,left=False)\n",
        "plt.ticklabel_format(style='plain')\n",
        "plt.show()"
      ],
      "metadata": {
        "colab": {
          "base_uri": "https://localhost:8080/",
          "height": 350
        },
        "id": "6LMvdtmNXel2",
        "outputId": "c29bd8b7-a6f2-4ef4-8a8a-6d27781dbcff"
      },
      "execution_count": 54,
      "outputs": [
        {
          "output_type": "display_data",
          "data": {
            "image/png": "[encoded data removed]",
            "text/plain": [
              "<Figure size 720x360 with 1 Axes>"
            ]
          },
          "metadata": {
            "needs_background": "light"
          }
        }
      ]
    },
    {
      "cell_type": "markdown",
      "source": [
        "Inference: customers at all age group has made recent transactions, it is clearly not enough to segment the customers based on their age"
      ],
      "metadata": {
        "id": "7pZ79Px9KL83"
      }
    },
    {
      "cell_type": "code",
      "source": [
        "plt.figure(figsize=(10,5))\n",
        "plt.title(\"frequency Vs recency\")\n",
        "plt.xlabel(\"recency\")\n",
        "plt.ylabel(\"frequency\")\n",
        "plt.scatter(pdf.Recency,pdf.Frequency)\n",
        "#plt.xlim(10, 80)\n",
        "plt.xlim(10, 100)\n",
        "\n",
        "plt.tick_params(bottom=False,left=False)\n",
        "plt.ticklabel_format(style='plain')\n",
        "plt.show()"
      ],
      "metadata": {
        "id": "MyEXbq6v_XZX",
        "colab": {
          "base_uri": "https://localhost:8080/",
          "height": 350
        },
        "outputId": "0decfea7-112a-49b5-e494-086b5c6d4c48"
      },
      "execution_count": 52,
      "outputs": [
        {
          "output_type": "display_data",
          "data": {
            "image/png": "[encoded data removed]",
            "text/plain": [
              "<Figure size 720x360 with 1 Axes>"
            ]
          },
          "metadata": {
            "needs_background": "light"
          }
        }
      ]
    },
    {
      "cell_type": "code",
      "source": [
        "plt.figure(figsize=(10,5))\n",
        "plt.title(\"Recency Vs Balance\")\n",
        "plt.xlabel(\"Account_Balance\")\n",
        "plt.ylabel(\"Recency\")\n",
        "plt.scatter(pdf.Acct_balance,pdf.Recency)\n",
        "#plt.xlim(10, 80)\n",
        "plt.xlim(10000, 100000000)\n",
        "\n",
        "plt.tick_params(bottom=False,left=False)\n",
        "plt.ticklabel_format(style='plain')\n",
        "plt.show()"
      ],
      "metadata": {
        "colab": {
          "base_uri": "https://localhost:8080/",
          "height": 351
        },
        "id": "EaFpMaQOS6ol",
        "outputId": "1f7f86dd-93cc-4be8-8f71-03b49dbb8aab"
      },
      "execution_count": 49,
      "outputs": [
        {
          "output_type": "display_data",
          "data": {
            "image/png": "[encoded data removed]",
            "text/plain": [
              "<Figure size 720x360 with 1 Axes>"
            ]
          },
          "metadata": {
            "needs_background": "light"
          }
        }
      ]
    },
    {
      "cell_type": "markdown",
      "source": [
        "From above plots we can clearly see there are no unique characteristics of each customer, hence comparing the recency with bank balance to identify potential customer.  we can infer that account balances dominate in the region of 2 crore and customers in that region done more than 3 recent transactions showing that majority of the population were moderately rich."
      ],
      "metadata": {
        "id": "laxYBtwyKfix"
      }
    },
    {
      "cell_type": "markdown",
      "source": [
        "**Data Modelling and Interpretation**\n",
        "\n",
        "From EDA, we have made inferences to find important features from the dataset. The next step of the data pipeline is to Model the data for interpretation.\n",
        "Spark ML libraries were used for data modelling.\n",
        "\n",
        "In order to enable the machine learning model to be more productive, Feature vectorization is essential which will convert all features into a single multi dimensional array of features, which will be used by machine learning models to interpret data and provide better predictive analytics. Vectorassembler() Spark transformer technique has been used in this project\n",
        "\n",
        "Standardscaler() is used to resize the distribution of values, normalize the features value in the range of mean of observed values as 0 and the standard deviation as 1."
      ],
      "metadata": {
        "id": "xI2f-paUprCj"
      }
    },
    {
      "cell_type": "code",
      "source": [
        "from pyspark.ml.linalg import Vectors\n",
        "from pyspark.ml.feature import VectorAssembler"
      ],
      "metadata": {
        "id": "dQcZQ67rwJZS"
      },
      "execution_count": 38,
      "outputs": []
    },
    {
      "cell_type": "code",
      "source": [
        "vec_assembler = VectorAssembler(inputCols = RFM1_F.columns, outputCol='features')"
      ],
      "metadata": {
        "id": "4-kS7lHhwh83"
      },
      "execution_count": 39,
      "outputs": []
    },
    {
      "cell_type": "code",
      "source": [
        "final_data = vec_assembler.transform(RFM1_F)"
      ],
      "metadata": {
        "id": "2RGNaNjgw7Qp"
      },
      "execution_count": 40,
      "outputs": []
    },
    {
      "cell_type": "code",
      "source": [
        "final_data.show()"
      ],
      "metadata": {
        "colab": {
          "base_uri": "https://localhost:8080/"
        },
        "id": "ye6KWbEXg98D",
        "outputId": "f74e6f8d-109f-43e5-e15c-85de32ed4037"
      },
      "execution_count": 41,
      "outputs": [
        {
          "output_type": "stream",
          "name": "stdout",
          "text": [
            "+--------+-------+---------+--------+------------+--------------------+\n",
            "|Cust_Age|Recency|Frequency|Monetary|Acct_balance|            features|\n",
            "+--------+-------+---------+--------+------------+--------------------+\n",
            "|      24|     25|        2|  5106.0|   152681.27|[24.0,25.0,2.0,51...|\n",
            "|      33|     25|        2|  5106.0|   152681.27|[33.0,25.0,2.0,51...|\n",
            "|      22|     68|        1|  1499.0|    24204.49|[22.0,68.0,1.0,14...|\n",
            "|      32|     75|        2|  1455.0|    200225.9|[32.0,75.0,2.0,14...|\n",
            "|      24|     75|        2|  1455.0|    200225.9|[24.0,75.0,2.0,14...|\n",
            "|      26|     36|        1|    30.0|      496.18|[26.0,36.0,1.0,30...|\n",
            "|      51|     64|        1|  5000.0|    87058.65|[51.0,64.0,1.0,50...|\n",
            "|      28|     53|        1|   557.0|   296828.37|[28.0,53.0,1.0,55...|\n",
            "|      32|     78|        2|  1864.0|    10400.31|[32.0,78.0,2.0,18...|\n",
            "|      28|     78|        2|  1864.0|    10400.31|[28.0,78.0,2.0,18...|\n",
            "|      24|     55|        2|   750.0|   385297.51|[24.0,55.0,2.0,75...|\n",
            "|      36|     55|        2|   750.0|   385297.51|[36.0,55.0,2.0,75...|\n",
            "|      20|     56|        1|   208.0|   355430.17|[20.0,56.0,1.0,20...|\n",
            "|      35|     73|        1| 19680.0|    95859.17|[35.0,73.0,1.0,19...|\n",
            "|      24|     44|        1|   100.0|     1290.76|[24.0,44.0,1.0,10...|\n",
            "|      18|     49|        1|   915.0|    11027.18|[18.0,49.0,1.0,91...|\n",
            "|      23|     41|        3| 16917.0|   782142.18|[23.0,41.0,3.0,16...|\n",
            "|      41|     41|        3| 16917.0|   782142.18|[41.0,41.0,3.0,16...|\n",
            "|      24|     41|        3| 16917.0|   782142.18|[24.0,41.0,3.0,16...|\n",
            "|      29|     64|        1|   201.0|     7051.72|[29.0,64.0,1.0,20...|\n",
            "+--------+-------+---------+--------+------------+--------------------+\n",
            "only showing top 20 rows\n",
            "\n"
          ]
        }
      ]
    },
    {
      "cell_type": "code",
      "source": [
        "from pyspark.ml.feature import StandardScaler"
      ],
      "metadata": {
        "id": "iryEM82VjNGu"
      },
      "execution_count": 42,
      "outputs": []
    },
    {
      "cell_type": "code",
      "source": [
        "scaler = StandardScaler(inputCol=\"features\", outputCol=\"scaledFeatures\", withStd=True, withMean=False)"
      ],
      "metadata": {
        "id": "6paZAwQAjO7w"
      },
      "execution_count": 43,
      "outputs": []
    },
    {
      "cell_type": "code",
      "source": [
        "scalerModel = scaler.fit(final_data)"
      ],
      "metadata": {
        "id": "Vad3thWnjUoz"
      },
      "execution_count": 44,
      "outputs": []
    },
    {
      "cell_type": "code",
      "source": [
        "final_data = scalerModel.transform(final_data)"
      ],
      "metadata": {
        "id": "PTTlUmMnjatc"
      },
      "execution_count": 45,
      "outputs": []
    },
    {
      "cell_type": "code",
      "source": [
        "final_data.show()"
      ],
      "metadata": {
        "colab": {
          "base_uri": "https://localhost:8080/"
        },
        "id": "0xvYwKHyj520",
        "outputId": "ac47fd7f-d180-483a-8eb8-13721dbfe640"
      },
      "execution_count": 46,
      "outputs": [
        {
          "output_type": "stream",
          "name": "stdout",
          "text": [
            "+--------+-------+---------+--------+------------+--------------------+--------------------+\n",
            "|Cust_Age|Recency|Frequency|Monetary|Acct_balance|            features|      scaledFeatures|\n",
            "+--------+-------+---------+--------+------------+--------------------+--------------------+\n",
            "|      24|     25|        2|  5106.0|   152681.27|[24.0,25.0,2.0,51...|[2.81943350543167...|\n",
            "|      33|     25|        2|  5106.0|   152681.27|[33.0,25.0,2.0,51...|[3.87672106996855...|\n",
            "|      22|     68|        1|  1499.0|    24204.49|[22.0,68.0,1.0,14...|[2.58448071331236...|\n",
            "|      32|     75|        2|  1455.0|    200225.9|[32.0,75.0,2.0,14...|[3.75924467390890...|\n",
            "|      24|     75|        2|  1455.0|    200225.9|[24.0,75.0,2.0,14...|[2.81943350543167...|\n",
            "|      26|     36|        1|    30.0|      496.18|[26.0,36.0,1.0,30...|[3.05438629755098...|\n",
            "|      51|     64|        1|  5000.0|    87058.65|[51.0,64.0,1.0,50...|[5.99129619904231...|\n",
            "|      28|     53|        1|   557.0|   296828.37|[28.0,53.0,1.0,55...|[3.28933908967028...|\n",
            "|      32|     78|        2|  1864.0|    10400.31|[32.0,78.0,2.0,18...|[3.75924467390890...|\n",
            "|      28|     78|        2|  1864.0|    10400.31|[28.0,78.0,2.0,18...|[3.28933908967028...|\n",
            "|      24|     55|        2|   750.0|   385297.51|[24.0,55.0,2.0,75...|[2.81943350543167...|\n",
            "|      36|     55|        2|   750.0|   385297.51|[36.0,55.0,2.0,75...|[4.22915025814751...|\n",
            "|      20|     56|        1|   208.0|   355430.17|[20.0,56.0,1.0,20...|[2.34952792119306...|\n",
            "|      35|     73|        1| 19680.0|    95859.17|[35.0,73.0,1.0,19...|[4.11167386208786...|\n",
            "|      24|     44|        1|   100.0|     1290.76|[24.0,44.0,1.0,10...|[2.81943350543167...|\n",
            "|      18|     49|        1|   915.0|    11027.18|[18.0,49.0,1.0,91...|[2.11457512907375...|\n",
            "|      23|     41|        3| 16917.0|   782142.18|[23.0,41.0,3.0,16...|[2.70195710937202...|\n",
            "|      41|     41|        3| 16917.0|   782142.18|[41.0,41.0,3.0,16...|[4.81653223844577...|\n",
            "|      24|     41|        3| 16917.0|   782142.18|[24.0,41.0,3.0,16...|[2.81943350543167...|\n",
            "|      29|     64|        1|   201.0|     7051.72|[29.0,64.0,1.0,20...|[3.40681548572994...|\n",
            "+--------+-------+---------+--------+------------+--------------------+--------------------+\n",
            "only showing top 20 rows\n",
            "\n"
          ]
        }
      ]
    },
    {
      "cell_type": "markdown",
      "source": [
        "#Elbow method"
      ],
      "metadata": {
        "id": "SU1aoojtowzH"
      }
    },
    {
      "cell_type": "markdown",
      "source": [
        "To determine optimal number of clusters to be formed by K-means and Bisecting K-means, Elbow method is used to determine the k value. Optimal value can be found from the graph generated which looks like a elbow, the point where the elbow is formed is considered as a optimal K value."
      ],
      "metadata": {
        "id": "Tg-o04-GLaKg"
      }
    },
    {
      "cell_type": "markdown",
      "source": [
        "Unsupervised machine learning models were validated based on Silhouette Score. Silhoutte score calculates distance between centroids of each cluster, normally value will be between -1 to 1, where -1 represents poor clustering and values closer to 1 indiactes the model is properly clustered for the given data set."
      ],
      "metadata": {
        "id": "pDLWXvyaOfOx"
      }
    },
    {
      "cell_type": "code",
      "source": [
        "from pyspark.ml.clustering import KMeans\n",
        "from pyspark.ml.evaluation import ClusteringEvaluator\n",
        "import numpy as np"
      ],
      "metadata": {
        "id": "p3m0i2dum5gG"
      },
      "execution_count": 47,
      "outputs": []
    },
    {
      "cell_type": "code",
      "source": [
        "cost = np.zeros(10)\n",
        "\n",
        "for k in range(2,10):\n",
        "    kmeans = KMeans().setK(k).setSeed(1).setFeaturesCol('features')\n",
        "    model = kmeans.fit(final_data)\n",
        "    cost[k] = model.summary.trainingCost"
      ],
      "metadata": {
        "id": "eWzNEFHJo0To"
      },
      "execution_count": 48,
      "outputs": []
    },
    {
      "cell_type": "markdown",
      "source": [
        "# Finding Optimal K value using Elbow method"
      ],
      "metadata": {
        "id": "4WYnC-398WZi"
      }
    },
    {
      "cell_type": "code",
      "source": [
        "import numpy as np\n",
        "import matplotlib.mlab as mlab\n",
        "import matplotlib.pyplot as plt\n",
        "import seaborn as sbs\n",
        "from matplotlib.ticker import MaxNLocator\n",
        "\n",
        "fig, ax = plt.subplots(1,1, figsize =(8,6))\n",
        "ax.plot(range(2,10),cost[2:10], marker = \"o\")\n",
        "ax.set_xlabel('k')\n",
        "ax.set_ylabel('cost')\n",
        "ax.xaxis.set_major_locator(MaxNLocator(integer=True))\n",
        "plt.show()"
      ],
      "metadata": {
        "colab": {
          "base_uri": "https://localhost:8080/",
          "height": 399
        },
        "id": "7D6HbDjKrYQd",
        "outputId": "3f4efdc4-5422-4bd6-9d3f-6c34262a459b"
      },
      "execution_count": 50,
      "outputs": [
        {
          "output_type": "display_data",
          "data": {
            "image/png": "[encoded data removed]",
            "text/plain": [
              "<Figure size 576x432 with 1 Axes>"
            ]
          },
          "metadata": {
            "needs_background": "light"
          }
        }
      ]
    },
    {
      "cell_type": "markdown",
      "source": [
        "We can see that elbow is formed at two points. From EDA, we have categorized customers into 3 types, hence number of clusters to use in machine learning algorithms were k=3"
      ],
      "metadata": {
        "id": "XprQFucPLdVq"
      }
    },
    {
      "cell_type": "markdown",
      "source": [
        "**Training the Model and Evaluate**"
      ],
      "metadata": {
        "id": "dBfHVMraLngi"
      }
    },
    {
      "cell_type": "markdown",
      "source": [
        "K-Means Clustering"
      ],
      "metadata": {
        "id": "GfUKXUKLMCoz"
      }
    },
    {
      "cell_type": "code",
      "source": [
        "k = 3\n",
        "kmeans = KMeans().setK(k).setSeed(1)\n",
        "model = kmeans.fit(final_data)\n",
        "# Make predictions\n",
        "predictions = model.transform(final_data)\n",
        "predictions.show(5,False)"
      ],
      "metadata": {
        "colab": {
          "base_uri": "https://localhost:8080/"
        },
        "id": "2P8TnVa_uslY",
        "outputId": "aa285764-86f2-45d2-91c4-e80fde5e1c4a"
      },
      "execution_count": 51,
      "outputs": [
        {
          "output_type": "stream",
          "name": "stdout",
          "text": [
            "+--------+-------+---------+--------+------------+--------------------------------+------------------------------------------------------------------------------------------------+----------+\n",
            "|Cust_Age|Recency|Frequency|Monetary|Acct_balance|features                        |scaledFeatures                                                                                  |prediction|\n",
            "+--------+-------+---------+--------+------------+--------------------------------+------------------------------------------------------------------------------------------------+----------+\n",
            "|24      |25     |2        |5106.0  |152681.27   |[24.0,25.0,2.0,5106.0,152681.27]|[2.8194335054316757,1.6430807393368825,3.482811889948846,0.7280995478208171,0.17906159917061912]|0         |\n",
            "|33      |25     |2        |5106.0  |152681.27   |[33.0,25.0,2.0,5106.0,152681.27]|[3.876721069968554,1.6430807393368825,3.482811889948846,0.7280995478208171,0.17906159917061912] |0         |\n",
            "|22      |68     |1        |1499.0  |24204.49    |[22.0,68.0,1.0,1499.0,24204.49] |[2.5844807133123693,4.469179610996321,1.741405944974423,0.21375268746247647,0.02838655118934536]|0         |\n",
            "|32      |75     |2        |1455.0  |200225.9    |[32.0,75.0,2.0,1455.0,200225.9] |[3.759244673908901,4.929242218010648,3.482811889948846,0.20747842578912826,0.2348210088203777]  |0         |\n",
            "|24      |75     |2        |1455.0  |200225.9    |[24.0,75.0,2.0,1455.0,200225.9] |[2.8194335054316757,4.929242218010648,3.482811889948846,0.20747842578912826,0.2348210088203777] |0         |\n",
            "+--------+-------+---------+--------+------------+--------------------------------+------------------------------------------------------------------------------------------------+----------+\n",
            "only showing top 5 rows\n",
            "\n"
          ]
        }
      ]
    },
    {
      "cell_type": "code",
      "source": [
        "# Shows the result.\n",
        "centers = model.clusterCenters()\n",
        "print(\"Cluster Centers: \")\n",
        "for center in centers:\n",
        "    print(center)"
      ],
      "metadata": {
        "colab": {
          "base_uri": "https://localhost:8080/"
        },
        "id": "E0bU8pTD98uI",
        "outputId": "868e1d5b-d47c-4fa1-c18b-e3a4443c0995"
      },
      "execution_count": 56,
      "outputs": [
        {
          "output_type": "stream",
          "name": "stdout",
          "text": [
            "Cluster Centers: \n",
            "[3.07253398e+01 5.42592974e+01 1.31652252e+00 1.89609032e+03\n",
            " 1.01423536e+05]\n",
            "[4.85522388e+01 5.03034826e+01 1.60199005e+00 1.54454378e+04\n",
            " 4.22074219e+07]\n",
            "[3.94764510e+01 5.17088138e+01 1.64197772e+00 6.88849295e+03\n",
            " 5.58181529e+06]\n"
          ]
        }
      ]
    },
    {
      "cell_type": "code",
      "source": [
        "bla = [e.tolist() for e in centers]\n",
        "CF = sparkContext.parallelize((bla)).toDF(['Cust_Age', 'Recency', 'Frequency', 'Monetary', 'Acct_balance'])\n",
        "CF.show()"
      ],
      "metadata": {
        "colab": {
          "base_uri": "https://localhost:8080/"
        },
        "id": "mMPFzv8L_51J",
        "outputId": "12209823-5d48-4262-9dc4-68523b857e27"
      },
      "execution_count": 59,
      "outputs": [
        {
          "output_type": "stream",
          "name": "stdout",
          "text": [
            "+------------------+------------------+------------------+------------------+-------------------+\n",
            "|          Cust_Age|           Recency|         Frequency|          Monetary|       Acct_balance|\n",
            "+------------------+------------------+------------------+------------------+-------------------+\n",
            "|30.725339792204792|54.259297350157205|1.3165225249015902|  1896.09031829485| 101423.53570552643|\n",
            "| 48.55223880597015| 50.30348258706468|1.6019900497512438|15445.437810945272|4.220742187741292E7|\n",
            "| 39.47645104553449| 51.70881375806136|1.6419777213210864| 6888.492950947828|  5581815.287690083|\n",
            "+------------------+------------------+------------------+------------------+-------------------+\n",
            "\n"
          ]
        }
      ]
    },
    {
      "cell_type": "code",
      "source": [
        "# Evaluate clustering by computing Silhouette score\n",
        "evaluator = ClusteringEvaluator()\n",
        "\n",
        "silhouette = evaluator.evaluate(predictions)\n",
        "print(\"Silhouette with squared euclidean distance = \" + str(silhouette))"
      ],
      "metadata": {
        "colab": {
          "base_uri": "https://localhost:8080/"
        },
        "id": "e0q5Q9X--hdl",
        "outputId": "c642a5a3-c8fd-4e0c-d0cd-9886c1e162b7"
      },
      "execution_count": 57,
      "outputs": [
        {
          "output_type": "stream",
          "name": "stdout",
          "text": [
            "Silhouette with squared euclidean distance = 0.9920135070352577\n"
          ]
        }
      ]
    },
    {
      "cell_type": "code",
      "source": [
        "summary=predictions.groupBy(\"prediction\").count().show()"
      ],
      "metadata": {
        "colab": {
          "base_uri": "https://localhost:8080/"
        },
        "id": "nFjuQHG6_CRN",
        "outputId": "3051bd57-c32b-447c-d2f1-97e4228c81e3"
      },
      "execution_count": 61,
      "outputs": [
        {
          "output_type": "stream",
          "name": "stdout",
          "text": [
            "+----------+------+\n",
            "|prediction| count|\n",
            "+----------+------+\n",
            "|         1|   190|\n",
            "|         2|  4348|\n",
            "|         0|970195|\n",
            "+----------+------+\n",
            "\n"
          ]
        }
      ]
    },
    {
      "cell_type": "markdown",
      "source": [
        "**BisectingKMeans**\n"
      ],
      "metadata": {
        "id": "vwZRyDK0M0D-"
      }
    },
    {
      "cell_type": "markdown",
      "source": [
        "Bisecting K means"
      ],
      "metadata": {
        "id": "UfTL1Z58g-x0"
      }
    },
    {
      "cell_type": "code",
      "source": [
        "from pyspark.ml.clustering import BisectingKMeans\n",
        "from pyspark.ml.evaluation import ClusteringEvaluator\n",
        "\n",
        "\n",
        "# Trains a bisecting k-means model.\n",
        "bkm = BisectingKMeans().setK(3).setSeed(1)\n",
        "modelbkm = bkm.fit(final_data)\n",
        "\n"
      ],
      "metadata": {
        "id": "jTwKsF5kg-c1"
      },
      "execution_count": 66,
      "outputs": []
    },
    {
      "cell_type": "code",
      "source": [
        "# Make predictions\n",
        "predictions_bkm = modelbkm.transform(final_data)\n",
        "predictions_bkm.show(5,False)"
      ],
      "metadata": {
        "colab": {
          "base_uri": "https://localhost:8080/"
        },
        "id": "c97kVQGijB8K",
        "outputId": "3e5e612f-404e-4225-9a7e-bb3624557566"
      },
      "execution_count": 67,
      "outputs": [
        {
          "output_type": "stream",
          "name": "stdout",
          "text": [
            "+--------+-------+---------+--------+------------+--------------------------------+------------------------------------------------------------------------------------------------+----------+\n",
            "|Cust_Age|Recency|Frequency|Monetary|Acct_balance|features                        |scaledFeatures                                                                                  |prediction|\n",
            "+--------+-------+---------+--------+------------+--------------------------------+------------------------------------------------------------------------------------------------+----------+\n",
            "|24      |25     |2        |5106.0  |152681.27   |[24.0,25.0,2.0,5106.0,152681.27]|[2.8194335054316757,1.6430807393368825,3.482811889948846,0.7280995478208171,0.17906159917061912]|0         |\n",
            "|33      |25     |2        |5106.0  |152681.27   |[33.0,25.0,2.0,5106.0,152681.27]|[3.876721069968554,1.6430807393368825,3.482811889948846,0.7280995478208171,0.17906159917061912] |0         |\n",
            "|22      |68     |1        |1499.0  |24204.49    |[22.0,68.0,1.0,1499.0,24204.49] |[2.5844807133123693,4.469179610996321,1.741405944974423,0.21375268746247647,0.02838655118934536]|0         |\n",
            "|32      |75     |2        |1455.0  |200225.9    |[32.0,75.0,2.0,1455.0,200225.9] |[3.759244673908901,4.929242218010648,3.482811889948846,0.20747842578912826,0.2348210088203777]  |0         |\n",
            "|24      |75     |2        |1455.0  |200225.9    |[24.0,75.0,2.0,1455.0,200225.9] |[2.8194335054316757,4.929242218010648,3.482811889948846,0.20747842578912826,0.2348210088203777] |0         |\n",
            "+--------+-------+---------+--------+------------+--------------------------------+------------------------------------------------------------------------------------------------+----------+\n",
            "only showing top 5 rows\n",
            "\n"
          ]
        }
      ]
    },
    {
      "cell_type": "code",
      "source": [
        "# Shows the result.\n",
        "print(\"Cluster Centers: \")\n",
        "centers = modelbkm.clusterCenters()\n",
        "for center in centers:\n",
        "    print(center)"
      ],
      "metadata": {
        "colab": {
          "base_uri": "https://localhost:8080/"
        },
        "id": "z1xNbE77jLdu",
        "outputId": "677b51f3-c455-4d9b-e373-aa5bf0013013"
      },
      "execution_count": 69,
      "outputs": [
        {
          "output_type": "stream",
          "name": "stdout",
          "text": [
            "Cluster Centers: \n",
            "[3.07084845e+01 5.42667199e+01 1.31575073e+00 1.88680860e+03\n",
            " 9.60292536e+04]\n",
            "[3.89864751e+01 5.13475627e+01 1.64990138e+00 6.61884380e+03\n",
            " 4.20378537e+06]\n",
            "[4.40825893e+01 5.34642857e+01 1.54687500e+00 1.02139223e+04\n",
            " 2.82381152e+07]\n"
          ]
        }
      ]
    },
    {
      "cell_type": "code",
      "source": [
        "# Evaluate clustering by computing Silhouette score\n",
        "evaluator = ClusteringEvaluator()\n",
        "\n",
        "silhouette = evaluator.evaluate(predictions_bkm)\n",
        "print(\"Silhouette with squared euclidean distance = \" + str(silhouette))\n"
      ],
      "metadata": {
        "colab": {
          "base_uri": "https://localhost:8080/"
        },
        "id": "y_enMtsMjJDf",
        "outputId": "a2e151fc-afdd-4b74-e14d-cf784302830c"
      },
      "execution_count": 68,
      "outputs": [
        {
          "output_type": "stream",
          "name": "stdout",
          "text": [
            "Silhouette with squared euclidean distance = 0.9890936216836177\n"
          ]
        }
      ]
    },
    {
      "cell_type": "code",
      "source": [
        "summary=predictions_bkm.groupBy(\"prediction\").count().show()"
      ],
      "metadata": {
        "colab": {
          "base_uri": "https://localhost:8080/"
        },
        "id": "UIAUC1R1tpJ0",
        "outputId": "9ef623b2-520e-4323-ecd8-48b80fe9d0bd"
      },
      "execution_count": 97,
      "outputs": [
        {
          "output_type": "stream",
          "name": "stdout",
          "text": [
            "+----------+------+\n",
            "|prediction| count|\n",
            "+----------+------+\n",
            "|         1|  7095|\n",
            "|         2|   448|\n",
            "|         0|967191|\n",
            "+----------+------+\n",
            "\n"
          ]
        }
      ]
    },
    {
      "cell_type": "markdown",
      "source": [
        "Insights with 3 Clusters"
      ],
      "metadata": {
        "id": "TUA4ofWEOV62"
      }
    },
    {
      "cell_type": "code",
      "source": [
        "pred = predictions.toPandas()"
      ],
      "metadata": {
        "id": "9-N-vhD_mrSQ"
      },
      "execution_count": 59,
      "outputs": []
    },
    {
      "cell_type": "code",
      "source": [
        "pred.describe()"
      ],
      "metadata": {
        "colab": {
          "base_uri": "https://localhost:8080/",
          "height": 279
        },
        "id": "D-QhUph1nPUb",
        "outputId": "0bde5256-09dd-4276-89ab-9b42068b450e"
      },
      "execution_count": 60,
      "outputs": [
        {
          "output_type": "execute_result",
          "data": {
            "text/html": [
              "\n",
              "  <div id=\"df-da47580c-15d0-44d4-aaa7-dd2b8b47e390\">\n",
              "    <div class=\"colab-df-container\">\n",
              "      <div>\n",
              "<style scoped>\n",
              "    .dataframe tbody tr th:only-of-type {\n",
              "        vertical-align: middle;\n",
              "    }\n",
              "\n",
              "    .dataframe tbody tr th {\n",
              "        vertical-align: top;\n",
              "    }\n",
              "\n",
              "    .dataframe thead th {\n",
              "        text-align: right;\n",
              "    }\n",
              "</style>\n",
              "<table border=\"1\" class=\"dataframe\">\n",
              "  <thead>\n",
              "    <tr style=\"text-align: right;\">\n",
              "      <th></th>\n",
              "      <th>Cust_Age</th>\n",
              "      <th>Recency</th>\n",
              "      <th>Frequency</th>\n",
              "      <th>Monetary</th>\n",
              "      <th>Acct_balance</th>\n",
              "      <th>prediction</th>\n",
              "    </tr>\n",
              "  </thead>\n",
              "  <tbody>\n",
              "    <tr>\n",
              "      <th>count</th>\n",
              "      <td>974733.000000</td>\n",
              "      <td>974733.000000</td>\n",
              "      <td>974733.000000</td>\n",
              "      <td>9.747330e+05</td>\n",
              "      <td>9.747330e+05</td>\n",
              "      <td>974733.000000</td>\n",
              "    </tr>\n",
              "    <tr>\n",
              "      <th>mean</th>\n",
              "      <td>30.774912</td>\n",
              "      <td>54.245094</td>\n",
              "      <td>1.318290</td>\n",
              "      <td>1.925095e+03</td>\n",
              "      <td>1.388764e+05</td>\n",
              "      <td>0.009116</td>\n",
              "    </tr>\n",
              "    <tr>\n",
              "      <th>std</th>\n",
              "      <td>8.512348</td>\n",
              "      <td>15.215320</td>\n",
              "      <td>0.574249</td>\n",
              "      <td>7.012777e+03</td>\n",
              "      <td>8.526746e+05</td>\n",
              "      <td>0.133995</td>\n",
              "    </tr>\n",
              "    <tr>\n",
              "      <th>min</th>\n",
              "      <td>1.000000</td>\n",
              "      <td>0.000000</td>\n",
              "      <td>1.000000</td>\n",
              "      <td>0.000000e+00</td>\n",
              "      <td>0.000000e+00</td>\n",
              "      <td>0.000000</td>\n",
              "    </tr>\n",
              "    <tr>\n",
              "      <th>25%</th>\n",
              "      <td>25.000000</td>\n",
              "      <td>42.000000</td>\n",
              "      <td>1.000000</td>\n",
              "      <td>2.070000e+02</td>\n",
              "      <td>6.971520e+03</td>\n",
              "      <td>0.000000</td>\n",
              "    </tr>\n",
              "    <tr>\n",
              "      <th>50%</th>\n",
              "      <td>29.000000</td>\n",
              "      <td>53.000000</td>\n",
              "      <td>1.000000</td>\n",
              "      <td>6.000000e+02</td>\n",
              "      <td>2.412016e+04</td>\n",
              "      <td>0.000000</td>\n",
              "    </tr>\n",
              "    <tr>\n",
              "      <th>75%</th>\n",
              "      <td>34.000000</td>\n",
              "      <td>67.000000</td>\n",
              "      <td>2.000000</td>\n",
              "      <td>1.648010e+03</td>\n",
              "      <td>8.140571e+04</td>\n",
              "      <td>0.000000</td>\n",
              "    </tr>\n",
              "    <tr>\n",
              "      <th>max</th>\n",
              "      <td>74.000000</td>\n",
              "      <td>81.000000</td>\n",
              "      <td>6.000000</td>\n",
              "      <td>1.560035e+06</td>\n",
              "      <td>1.152067e+08</td>\n",
              "      <td>2.000000</td>\n",
              "    </tr>\n",
              "  </tbody>\n",
              "</table>\n",
              "</div>\n",
              "      <button class=\"colab-df-convert\" onclick=\"convertToInteractive('df-da47580c-15d0-44d4-aaa7-dd2b8b47e390')\"\n",
              "              title=\"Convert this dataframe to an interactive table.\"\n",
              "              style=\"display:none;\">\n",
              "        \n",
              "  <svg xmlns=\"http://www.w3.org/2000/svg\" height=\"24px\"viewBox=\"0 0 24 24\"\n",
              "       width=\"24px\">\n",
              "    <path d=\"M0 0h24v24H0V0z\" fill=\"none\"/>\n",
              "    <path d=\"M18.56 5.44l.94 2.06.94-2.06 2.06-.94-2.06-.94-.94-2.06-.94 2.06-2.06.94zm-11 1L8.5 8.5l.94-2.06 2.06-.94-2.06-.94L8.5 2.5l-.94 2.06-2.06.94zm10 10l.94 2.06.94-2.06 2.06-.94-2.06-.94-.94-2.06-.94 2.06-2.06.94z\"/><path d=\"M17.41 7.96l-1.37-1.37c-.4-.4-.92-.59-1.43-.59-.52 0-1.04.2-1.43.59L10.3 9.45l-7.72 7.72c-.78.78-.78 2.05 0 2.83L4 21.41c.39.39.9.59 1.41.59.51 0 1.02-.2 1.41-.59l7.78-7.78 2.81-2.81c.8-.78.8-2.07 0-2.86zM5.41 20L4 18.59l7.72-7.72 1.47 1.35L5.41 20z\"/>\n",
              "  </svg>\n",
              "      </button>\n",
              "      \n",
              "  <style>\n",
              "    .colab-df-container {\n",
              "      display:flex;\n",
              "      flex-wrap:wrap;\n",
              "      gap: 12px;\n",
              "    }\n",
              "\n",
              "    .colab-df-convert {\n",
              "      background-color: #E8F0FE;\n",
              "      border: none;\n",
              "      border-radius: 50%;\n",
              "      cursor: pointer;\n",
              "      display: none;\n",
              "      fill: #1967D2;\n",
              "      height: 32px;\n",
              "      padding: 0 0 0 0;\n",
              "      width: 32px;\n",
              "    }\n",
              "\n",
              "    .colab-df-convert:hover {\n",
              "      background-color: #E2EBFA;\n",
              "      box-shadow: 0px 1px 2px rgba(60, 64, 67, 0.3), 0px 1px 3px 1px rgba(60, 64, 67, 0.15);\n",
              "      fill: #174EA6;\n",
              "    }\n",
              "\n",
              "    [theme=dark] .colab-df-convert {\n",
              "      background-color: #3B4455;\n",
              "      fill: #D2E3FC;\n",
              "    }\n",
              "\n",
              "    [theme=dark] .colab-df-convert:hover {\n",
              "      background-color: #434B5C;\n",
              "      box-shadow: 0px 1px 3px 1px rgba(0, 0, 0, 0.15);\n",
              "      filter: drop-shadow(0px 1px 2px rgba(0, 0, 0, 0.3));\n",
              "      fill: #FFFFFF;\n",
              "    }\n",
              "  </style>\n",
              "\n",
              "      <script>\n",
              "        const buttonEl =\n",
              "          document.querySelector('#df-da47580c-15d0-44d4-aaa7-dd2b8b47e390 button.colab-df-convert');\n",
              "        buttonEl.style.display =\n",
              "          google.colab.kernel.accessAllowed ? 'block' : 'none';\n",
              "\n",
              "        async function convertToInteractive(key) {\n",
              "          const element = document.querySelector('#df-da47580c-15d0-44d4-aaa7-dd2b8b47e390');\n",
              "          const dataTable =\n",
              "            await google.colab.kernel.invokeFunction('convertToInteractive',\n",
              "                                                     [key], {});\n",
              "          if (!dataTable) return;\n",
              "\n",
              "          const docLinkHtml = 'Like what you see? Visit the ' +\n",
              "            '<a target=\"_blank\" href=https://colab.research.google.com/notebooks/data_table.ipynb>data table notebook</a>'\n",
              "            + ' to learn more about interactive tables.';\n",
              "          element.innerHTML = '';\n",
              "          dataTable['output_type'] = 'display_data';\n",
              "          await google.colab.output.renderOutput(dataTable, element);\n",
              "          const docLink = document.createElement('div');\n",
              "          docLink.innerHTML = docLinkHtml;\n",
              "          element.appendChild(docLink);\n",
              "        }\n",
              "      </script>\n",
              "    </div>\n",
              "  </div>\n",
              "  "
            ],
            "text/plain": [
              "            Cust_Age        Recency  ...  Acct_balance     prediction\n",
              "count  974733.000000  974733.000000  ...  9.747330e+05  974733.000000\n",
              "mean       30.774912      54.245094  ...  1.388764e+05       0.009116\n",
              "std         8.512348      15.215320  ...  8.526746e+05       0.133995\n",
              "min         1.000000       0.000000  ...  0.000000e+00       0.000000\n",
              "25%        25.000000      42.000000  ...  6.971520e+03       0.000000\n",
              "50%        29.000000      53.000000  ...  2.412016e+04       0.000000\n",
              "75%        34.000000      67.000000  ...  8.140571e+04       0.000000\n",
              "max        74.000000      81.000000  ...  1.152067e+08       2.000000\n",
              "\n",
              "[8 rows x 6 columns]"
            ]
          },
          "metadata": {},
          "execution_count": 60
        }
      ]
    },
    {
      "cell_type": "code",
      "source": [
        "Avg_Pred_p1=predictions.groupBy(\"prediction\").agg({'Cust_Age':'avg', 'Recency':'avg', 'Frequency':'avg','Monetary':'avg','Acct_balance':'avg'})\n",
        "Avg_Pred_p1.show()"
      ],
      "metadata": {
        "colab": {
          "base_uri": "https://localhost:8080/"
        },
        "id": "lNc8mmDAz3YW",
        "outputId": "4f0e9e7f-2e90-4555-eb2d-946e4da494f7"
      },
      "execution_count": 53,
      "outputs": [
        {
          "output_type": "stream",
          "name": "stdout",
          "text": [
            "+----------+------------------+------------------+-------------------+------------------+------------------+\n",
            "|prediction|     avg(Cust_Age)|      avg(Recency)|  avg(Acct_balance)|     avg(Monetary)|    avg(Frequency)|\n",
            "+----------+------------------+------------------+-------------------+------------------+------------------+\n",
            "|         1| 49.11052631578947| 50.46842105263158|4.324239642184209E7|16224.468789473684|1.5736842105263158|\n",
            "|         2| 39.08854645814167|51.740110395584175|  6095344.474993138| 6646.995630174787|1.6492640294388226|\n",
            "|         0|30.734062739964646| 54.25705966326357| 103740.77045899951|1901.1326149486642| 1.316756940615031|\n",
            "+----------+------------------+------------------+-------------------+------------------+------------------+\n",
            "\n"
          ]
        }
      ]
    },
    {
      "cell_type": "markdown",
      "source": [
        "**Prediction Results for all dataset features**"
      ],
      "metadata": {
        "id": "Oljwb2QSPTZu"
      }
    },
    {
      "cell_type": "code",
      "source": [
        "Pandasdf=Avg_Pred_p1.toPandas()"
      ],
      "metadata": {
        "id": "1FU5kBAs2azx"
      },
      "execution_count": 54,
      "outputs": []
    },
    {
      "cell_type": "code",
      "source": [
        "plt.figure(figsize=(8,5))\n",
        "import matplotlib.pyplot as plt \n",
        "#c = ['Blue', 'yellow', 'pink']color = c,\n",
        "#l=['1','2','0']\n",
        "p1=Pandasdf.plot(x=\"prediction\", y=\"avg(Cust_Age)\", kind='bar')\n",
        "#plt.legend((p1[0], p1[1]), ('Men', 'Women')) \n",
        "Pandasdf.plot(x=\"prediction\", y=\"avg(Recency)\", kind='bar') \n",
        "Pandasdf.plot(x=\"prediction\", y=\"avg(Frequency)\", kind='bar') \n",
        "Pandasdf.plot(x=\"prediction\", y=\"avg(Monetary)\",kind='bar') \n",
        "Pandasdf.plot(x=\"prediction\", y=\"avg(Acct_balance)\", kind='bar') \n",
        "plt.show()"
      ],
      "metadata": {
        "colab": {
          "base_uri": "https://localhost:8080/",
          "height": 1000
        },
        "id": "oexa6SxN5zlf",
        "outputId": "1b130173-8423-4d70-a6e9-e6219dd76488"
      },
      "execution_count": 56,
      "outputs": [
        {
          "output_type": "display_data",
          "data": {
            "text/plain": [
              "<Figure size 576x360 with 0 Axes>"
            ]
          },
          "metadata": {}
        },
        {
          "output_type": "display_data",
          "data": {
            "image/png": "[encoded data removed]",
            "text/plain": [
              "<Figure size 432x288 with 1 Axes>"
            ]
          },
          "metadata": {
            "needs_background": "light"
          }
        },
        {
          "output_type": "display_data",
          "data": {
            "image/png": "[encoded data removed]",
            "text/plain": [
              "<Figure size 432x288 with 1 Axes>"
            ]
          },
          "metadata": {
            "needs_background": "light"
          }
        },
        {
          "output_type": "display_data",
          "data": {
            "image/png": "[encoded data removed]",
            "text/plain": [
              "<Figure size 432x288 with 1 Axes>"
            ]
          },
          "metadata": {
            "needs_background": "light"
          }
        },
        {
          "output_type": "display_data",
          "data": {
            "image/png": "[encoded data removed]",
            "text/plain": [
              "<Figure size 432x288 with 1 Axes>"
            ]
          },
          "metadata": {
            "needs_background": "light"
          }
        },
        {
          "output_type": "display_data",
          "data": {
            "image/png": "[encoded data removed]",
            "text/plain": [
              "<Figure size 432x288 with 1 Axes>"
            ]
          },
          "metadata": {
            "needs_background": "light"
          }
        }
      ]
    },
    {
      "cell_type": "markdown",
      "source": [
        "summary of Insights from 3 groups:\n",
        "\n",
        "*Group 1, Group 2 and Group 3 were behaving similar in terms of recency, frequency.\n",
        "\n",
        "*Group 1 is considered to be most valuable group as customers in that group maintaining high bank balance with high monetary transaction.\n",
        "\n",
        "*Group 2 is considered to be valuable customers with moderately high bank balance and with moderate monetary transaction but very less compared to that of group 1.\n",
        "\n",
        "*Majority of customers belong to group 0 with less bank balance and with less monetary transaction when compared to other two groups.\n",
        "\n",
        "\n",
        "\n",
        "\n"
      ],
      "metadata": {
        "id": "gYRoxsJPO4C-"
      }
    },
    {
      "cell_type": "markdown",
      "source": [
        "Conclusion:\n",
        "\n",
        "This technical project analyzed existing bank customers transactional data of an Indian bank. By using unsupervised machine learning techniques, predicted existing groups of customer and provided strategies that the bank can implement to improve their business.\n",
        "\n",
        "The performance of clustering models were evaluated using Silhoutte score. Based on the score K-means method outperformed Bisecting K-Means.\n",
        "\n",
        "For Future works clustering can be performed based on Demographic information and segment customers using different machine learning clustering methods."
      ],
      "metadata": {
        "id": "tOwIWLYIP1IA"
      }
    }
  ]
}